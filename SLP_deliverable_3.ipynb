{
  "nbformat": 4,
  "nbformat_minor": 0,
  "metadata": {
    "colab": {
      "provenance": [],
      "collapsed_sections": [
        "5P6rHeI0zzj7",
        "3k-P77qOzt0M",
        "yKfoccba61Dk",
        "F-gQi4sV1y1B",
        "GmzaEOv_EHKw",
        "BGDlSCtODLpe",
        "4q3Dr6uzDa8S",
        "1CQWpa4XDsHY",
        "FgwQWB8CD9Sm"
      ]
    },
    "kernelspec": {
      "name": "python3",
      "display_name": "Python 3"
    },
    "language_info": {
      "name": "python"
    }
  },
  "cells": [
    {
      "cell_type": "markdown",
      "source": [
        "# Keara Toop's SLP Deliverable #3 Code"
      ],
      "metadata": {
        "id": "3O8GbWf_iilX"
      }
    },
    {
      "cell_type": "code",
      "source": [
        "#imports\n",
        "import pandas as pd\n",
        "import numpy as np\n",
        "import matplotlib.pyplot as plt\n",
        "import seaborn as sns\n",
        "from sklearn.cluster import KMeans\n",
        "from sklearn.decomposition import PCA"
      ],
      "metadata": {
        "id": "_QUUZWxCinlC"
      },
      "execution_count": 1,
      "outputs": []
    },
    {
      "cell_type": "code",
      "execution_count": 2,
      "metadata": {
        "id": "OpqW71VnicLO"
      },
      "outputs": [],
      "source": [
        "#read in file\n",
        "mxmh = pd.read_csv(\"mxmh_survey_results.csv\") #mxmh stands for \"Music and Mental Health\""
      ]
    },
    {
      "cell_type": "markdown",
      "source": [
        "##Preparing the data"
      ],
      "metadata": {
        "id": "5P6rHeI0zzj7"
      }
    },
    {
      "cell_type": "code",
      "source": [
        "#make separate dataframe that includes only the frequency columns\n",
        "frequency = mxmh[[\"Frequency [Classical]\", \"Frequency [Country]\", \"Frequency [EDM]\", \"Frequency [Folk]\", \"Frequency [Gospel]\",\n",
        "                  \"Frequency [Hip hop]\", \"Frequency [Jazz]\", \"Frequency [K pop]\", \"Frequency [Latin]\", \"Frequency [Lofi]\",\n",
        "                  \"Frequency [Metal]\", \"Frequency [Pop]\", \"Frequency [R&B]\", \"Frequency [Rap]\", \"Frequency [Rock]\", \"Frequency [Video game music]\"]]\n",
        "\n",
        "frequency.head()"
      ],
      "metadata": {
        "colab": {
          "base_uri": "https://localhost:8080/",
          "height": 365
        },
        "id": "EHo1IYytqpXu",
        "outputId": "845084e8-b04f-4a4b-9d68-843abd6cc011"
      },
      "execution_count": 3,
      "outputs": [
        {
          "output_type": "execute_result",
          "data": {
            "text/plain": [
              "  Frequency [Classical] Frequency [Country]  Frequency [EDM] Frequency [Folk]  \\\n",
              "0                Rarely               Never           Rarely            Never   \n",
              "1             Sometimes               Never            Never           Rarely   \n",
              "2                 Never               Never  Very frequently            Never   \n",
              "3             Sometimes               Never            Never           Rarely   \n",
              "4                 Never               Never           Rarely            Never   \n",
              "\n",
              "  Frequency [Gospel] Frequency [Hip hop] Frequency [Jazz] Frequency [K pop]  \\\n",
              "0              Never           Sometimes            Never   Very frequently   \n",
              "1          Sometimes              Rarely  Very frequently            Rarely   \n",
              "2              Never              Rarely           Rarely   Very frequently   \n",
              "3          Sometimes               Never  Very frequently         Sometimes   \n",
              "4             Rarely     Very frequently            Never   Very frequently   \n",
              "\n",
              "  Frequency [Latin] Frequency [Lofi] Frequency [Metal]  Frequency [Pop]  \\\n",
              "0   Very frequently           Rarely             Never  Very frequently   \n",
              "1         Sometimes           Rarely             Never        Sometimes   \n",
              "2             Never        Sometimes         Sometimes           Rarely   \n",
              "3   Very frequently        Sometimes             Never        Sometimes   \n",
              "4         Sometimes        Sometimes             Never        Sometimes   \n",
              "\n",
              "   Frequency [R&B]  Frequency [Rap] Frequency [Rock]  \\\n",
              "0        Sometimes  Very frequently            Never   \n",
              "1        Sometimes           Rarely  Very frequently   \n",
              "2            Never           Rarely           Rarely   \n",
              "3        Sometimes            Never            Never   \n",
              "4  Very frequently  Very frequently            Never   \n",
              "\n",
              "  Frequency [Video game music]  \n",
              "0                    Sometimes  \n",
              "1                       Rarely  \n",
              "2              Very frequently  \n",
              "3                        Never  \n",
              "4                       Rarely  "
            ],
            "text/html": [
              "\n",
              "  <div id=\"df-b18cadba-54df-4861-bf33-07d5bd6df20c\" class=\"colab-df-container\">\n",
              "    <div>\n",
              "<style scoped>\n",
              "    .dataframe tbody tr th:only-of-type {\n",
              "        vertical-align: middle;\n",
              "    }\n",
              "\n",
              "    .dataframe tbody tr th {\n",
              "        vertical-align: top;\n",
              "    }\n",
              "\n",
              "    .dataframe thead th {\n",
              "        text-align: right;\n",
              "    }\n",
              "</style>\n",
              "<table border=\"1\" class=\"dataframe\">\n",
              "  <thead>\n",
              "    <tr style=\"text-align: right;\">\n",
              "      <th></th>\n",
              "      <th>Frequency [Classical]</th>\n",
              "      <th>Frequency [Country]</th>\n",
              "      <th>Frequency [EDM]</th>\n",
              "      <th>Frequency [Folk]</th>\n",
              "      <th>Frequency [Gospel]</th>\n",
              "      <th>Frequency [Hip hop]</th>\n",
              "      <th>Frequency [Jazz]</th>\n",
              "      <th>Frequency [K pop]</th>\n",
              "      <th>Frequency [Latin]</th>\n",
              "      <th>Frequency [Lofi]</th>\n",
              "      <th>Frequency [Metal]</th>\n",
              "      <th>Frequency [Pop]</th>\n",
              "      <th>Frequency [R&amp;B]</th>\n",
              "      <th>Frequency [Rap]</th>\n",
              "      <th>Frequency [Rock]</th>\n",
              "      <th>Frequency [Video game music]</th>\n",
              "    </tr>\n",
              "  </thead>\n",
              "  <tbody>\n",
              "    <tr>\n",
              "      <th>0</th>\n",
              "      <td>Rarely</td>\n",
              "      <td>Never</td>\n",
              "      <td>Rarely</td>\n",
              "      <td>Never</td>\n",
              "      <td>Never</td>\n",
              "      <td>Sometimes</td>\n",
              "      <td>Never</td>\n",
              "      <td>Very frequently</td>\n",
              "      <td>Very frequently</td>\n",
              "      <td>Rarely</td>\n",
              "      <td>Never</td>\n",
              "      <td>Very frequently</td>\n",
              "      <td>Sometimes</td>\n",
              "      <td>Very frequently</td>\n",
              "      <td>Never</td>\n",
              "      <td>Sometimes</td>\n",
              "    </tr>\n",
              "    <tr>\n",
              "      <th>1</th>\n",
              "      <td>Sometimes</td>\n",
              "      <td>Never</td>\n",
              "      <td>Never</td>\n",
              "      <td>Rarely</td>\n",
              "      <td>Sometimes</td>\n",
              "      <td>Rarely</td>\n",
              "      <td>Very frequently</td>\n",
              "      <td>Rarely</td>\n",
              "      <td>Sometimes</td>\n",
              "      <td>Rarely</td>\n",
              "      <td>Never</td>\n",
              "      <td>Sometimes</td>\n",
              "      <td>Sometimes</td>\n",
              "      <td>Rarely</td>\n",
              "      <td>Very frequently</td>\n",
              "      <td>Rarely</td>\n",
              "    </tr>\n",
              "    <tr>\n",
              "      <th>2</th>\n",
              "      <td>Never</td>\n",
              "      <td>Never</td>\n",
              "      <td>Very frequently</td>\n",
              "      <td>Never</td>\n",
              "      <td>Never</td>\n",
              "      <td>Rarely</td>\n",
              "      <td>Rarely</td>\n",
              "      <td>Very frequently</td>\n",
              "      <td>Never</td>\n",
              "      <td>Sometimes</td>\n",
              "      <td>Sometimes</td>\n",
              "      <td>Rarely</td>\n",
              "      <td>Never</td>\n",
              "      <td>Rarely</td>\n",
              "      <td>Rarely</td>\n",
              "      <td>Very frequently</td>\n",
              "    </tr>\n",
              "    <tr>\n",
              "      <th>3</th>\n",
              "      <td>Sometimes</td>\n",
              "      <td>Never</td>\n",
              "      <td>Never</td>\n",
              "      <td>Rarely</td>\n",
              "      <td>Sometimes</td>\n",
              "      <td>Never</td>\n",
              "      <td>Very frequently</td>\n",
              "      <td>Sometimes</td>\n",
              "      <td>Very frequently</td>\n",
              "      <td>Sometimes</td>\n",
              "      <td>Never</td>\n",
              "      <td>Sometimes</td>\n",
              "      <td>Sometimes</td>\n",
              "      <td>Never</td>\n",
              "      <td>Never</td>\n",
              "      <td>Never</td>\n",
              "    </tr>\n",
              "    <tr>\n",
              "      <th>4</th>\n",
              "      <td>Never</td>\n",
              "      <td>Never</td>\n",
              "      <td>Rarely</td>\n",
              "      <td>Never</td>\n",
              "      <td>Rarely</td>\n",
              "      <td>Very frequently</td>\n",
              "      <td>Never</td>\n",
              "      <td>Very frequently</td>\n",
              "      <td>Sometimes</td>\n",
              "      <td>Sometimes</td>\n",
              "      <td>Never</td>\n",
              "      <td>Sometimes</td>\n",
              "      <td>Very frequently</td>\n",
              "      <td>Very frequently</td>\n",
              "      <td>Never</td>\n",
              "      <td>Rarely</td>\n",
              "    </tr>\n",
              "  </tbody>\n",
              "</table>\n",
              "</div>\n",
              "    <div class=\"colab-df-buttons\">\n",
              "\n",
              "  <div class=\"colab-df-container\">\n",
              "    <button class=\"colab-df-convert\" onclick=\"convertToInteractive('df-b18cadba-54df-4861-bf33-07d5bd6df20c')\"\n",
              "            title=\"Convert this dataframe to an interactive table.\"\n",
              "            style=\"display:none;\">\n",
              "\n",
              "  <svg xmlns=\"http://www.w3.org/2000/svg\" height=\"24px\" viewBox=\"0 -960 960 960\">\n",
              "    <path d=\"M120-120v-720h720v720H120Zm60-500h600v-160H180v160Zm220 220h160v-160H400v160Zm0 220h160v-160H400v160ZM180-400h160v-160H180v160Zm440 0h160v-160H620v160ZM180-180h160v-160H180v160Zm440 0h160v-160H620v160Z\"/>\n",
              "  </svg>\n",
              "    </button>\n",
              "\n",
              "  <style>\n",
              "    .colab-df-container {\n",
              "      display:flex;\n",
              "      gap: 12px;\n",
              "    }\n",
              "\n",
              "    .colab-df-convert {\n",
              "      background-color: #E8F0FE;\n",
              "      border: none;\n",
              "      border-radius: 50%;\n",
              "      cursor: pointer;\n",
              "      display: none;\n",
              "      fill: #1967D2;\n",
              "      height: 32px;\n",
              "      padding: 0 0 0 0;\n",
              "      width: 32px;\n",
              "    }\n",
              "\n",
              "    .colab-df-convert:hover {\n",
              "      background-color: #E2EBFA;\n",
              "      box-shadow: 0px 1px 2px rgba(60, 64, 67, 0.3), 0px 1px 3px 1px rgba(60, 64, 67, 0.15);\n",
              "      fill: #174EA6;\n",
              "    }\n",
              "\n",
              "    .colab-df-buttons div {\n",
              "      margin-bottom: 4px;\n",
              "    }\n",
              "\n",
              "    [theme=dark] .colab-df-convert {\n",
              "      background-color: #3B4455;\n",
              "      fill: #D2E3FC;\n",
              "    }\n",
              "\n",
              "    [theme=dark] .colab-df-convert:hover {\n",
              "      background-color: #434B5C;\n",
              "      box-shadow: 0px 1px 3px 1px rgba(0, 0, 0, 0.15);\n",
              "      filter: drop-shadow(0px 1px 2px rgba(0, 0, 0, 0.3));\n",
              "      fill: #FFFFFF;\n",
              "    }\n",
              "  </style>\n",
              "\n",
              "    <script>\n",
              "      const buttonEl =\n",
              "        document.querySelector('#df-b18cadba-54df-4861-bf33-07d5bd6df20c button.colab-df-convert');\n",
              "      buttonEl.style.display =\n",
              "        google.colab.kernel.accessAllowed ? 'block' : 'none';\n",
              "\n",
              "      async function convertToInteractive(key) {\n",
              "        const element = document.querySelector('#df-b18cadba-54df-4861-bf33-07d5bd6df20c');\n",
              "        const dataTable =\n",
              "          await google.colab.kernel.invokeFunction('convertToInteractive',\n",
              "                                                    [key], {});\n",
              "        if (!dataTable) return;\n",
              "\n",
              "        const docLinkHtml = 'Like what you see? Visit the ' +\n",
              "          '<a target=\"_blank\" href=https://colab.research.google.com/notebooks/data_table.ipynb>data table notebook</a>'\n",
              "          + ' to learn more about interactive tables.';\n",
              "        element.innerHTML = '';\n",
              "        dataTable['output_type'] = 'display_data';\n",
              "        await google.colab.output.renderOutput(dataTable, element);\n",
              "        const docLink = document.createElement('div');\n",
              "        docLink.innerHTML = docLinkHtml;\n",
              "        element.appendChild(docLink);\n",
              "      }\n",
              "    </script>\n",
              "  </div>\n",
              "\n",
              "\n",
              "<div id=\"df-6197864e-7b3e-4746-a136-223ed6a08325\">\n",
              "  <button class=\"colab-df-quickchart\" onclick=\"quickchart('df-6197864e-7b3e-4746-a136-223ed6a08325')\"\n",
              "            title=\"Suggest charts\"\n",
              "            style=\"display:none;\">\n",
              "\n",
              "<svg xmlns=\"http://www.w3.org/2000/svg\" height=\"24px\"viewBox=\"0 0 24 24\"\n",
              "     width=\"24px\">\n",
              "    <g>\n",
              "        <path d=\"M19 3H5c-1.1 0-2 .9-2 2v14c0 1.1.9 2 2 2h14c1.1 0 2-.9 2-2V5c0-1.1-.9-2-2-2zM9 17H7v-7h2v7zm4 0h-2V7h2v10zm4 0h-2v-4h2v4z\"/>\n",
              "    </g>\n",
              "</svg>\n",
              "  </button>\n",
              "\n",
              "<style>\n",
              "  .colab-df-quickchart {\n",
              "      --bg-color: #E8F0FE;\n",
              "      --fill-color: #1967D2;\n",
              "      --hover-bg-color: #E2EBFA;\n",
              "      --hover-fill-color: #174EA6;\n",
              "      --disabled-fill-color: #AAA;\n",
              "      --disabled-bg-color: #DDD;\n",
              "  }\n",
              "\n",
              "  [theme=dark] .colab-df-quickchart {\n",
              "      --bg-color: #3B4455;\n",
              "      --fill-color: #D2E3FC;\n",
              "      --hover-bg-color: #434B5C;\n",
              "      --hover-fill-color: #FFFFFF;\n",
              "      --disabled-bg-color: #3B4455;\n",
              "      --disabled-fill-color: #666;\n",
              "  }\n",
              "\n",
              "  .colab-df-quickchart {\n",
              "    background-color: var(--bg-color);\n",
              "    border: none;\n",
              "    border-radius: 50%;\n",
              "    cursor: pointer;\n",
              "    display: none;\n",
              "    fill: var(--fill-color);\n",
              "    height: 32px;\n",
              "    padding: 0;\n",
              "    width: 32px;\n",
              "  }\n",
              "\n",
              "  .colab-df-quickchart:hover {\n",
              "    background-color: var(--hover-bg-color);\n",
              "    box-shadow: 0 1px 2px rgba(60, 64, 67, 0.3), 0 1px 3px 1px rgba(60, 64, 67, 0.15);\n",
              "    fill: var(--button-hover-fill-color);\n",
              "  }\n",
              "\n",
              "  .colab-df-quickchart-complete:disabled,\n",
              "  .colab-df-quickchart-complete:disabled:hover {\n",
              "    background-color: var(--disabled-bg-color);\n",
              "    fill: var(--disabled-fill-color);\n",
              "    box-shadow: none;\n",
              "  }\n",
              "\n",
              "  .colab-df-spinner {\n",
              "    border: 2px solid var(--fill-color);\n",
              "    border-color: transparent;\n",
              "    border-bottom-color: var(--fill-color);\n",
              "    animation:\n",
              "      spin 1s steps(1) infinite;\n",
              "  }\n",
              "\n",
              "  @keyframes spin {\n",
              "    0% {\n",
              "      border-color: transparent;\n",
              "      border-bottom-color: var(--fill-color);\n",
              "      border-left-color: var(--fill-color);\n",
              "    }\n",
              "    20% {\n",
              "      border-color: transparent;\n",
              "      border-left-color: var(--fill-color);\n",
              "      border-top-color: var(--fill-color);\n",
              "    }\n",
              "    30% {\n",
              "      border-color: transparent;\n",
              "      border-left-color: var(--fill-color);\n",
              "      border-top-color: var(--fill-color);\n",
              "      border-right-color: var(--fill-color);\n",
              "    }\n",
              "    40% {\n",
              "      border-color: transparent;\n",
              "      border-right-color: var(--fill-color);\n",
              "      border-top-color: var(--fill-color);\n",
              "    }\n",
              "    60% {\n",
              "      border-color: transparent;\n",
              "      border-right-color: var(--fill-color);\n",
              "    }\n",
              "    80% {\n",
              "      border-color: transparent;\n",
              "      border-right-color: var(--fill-color);\n",
              "      border-bottom-color: var(--fill-color);\n",
              "    }\n",
              "    90% {\n",
              "      border-color: transparent;\n",
              "      border-bottom-color: var(--fill-color);\n",
              "    }\n",
              "  }\n",
              "</style>\n",
              "\n",
              "  <script>\n",
              "    async function quickchart(key) {\n",
              "      const quickchartButtonEl =\n",
              "        document.querySelector('#' + key + ' button');\n",
              "      quickchartButtonEl.disabled = true;  // To prevent multiple clicks.\n",
              "      quickchartButtonEl.classList.add('colab-df-spinner');\n",
              "      try {\n",
              "        const charts = await google.colab.kernel.invokeFunction(\n",
              "            'suggestCharts', [key], {});\n",
              "      } catch (error) {\n",
              "        console.error('Error during call to suggestCharts:', error);\n",
              "      }\n",
              "      quickchartButtonEl.classList.remove('colab-df-spinner');\n",
              "      quickchartButtonEl.classList.add('colab-df-quickchart-complete');\n",
              "    }\n",
              "    (() => {\n",
              "      let quickchartButtonEl =\n",
              "        document.querySelector('#df-6197864e-7b3e-4746-a136-223ed6a08325 button');\n",
              "      quickchartButtonEl.style.display =\n",
              "        google.colab.kernel.accessAllowed ? 'block' : 'none';\n",
              "    })();\n",
              "  </script>\n",
              "</div>\n",
              "    </div>\n",
              "  </div>\n"
            ],
            "application/vnd.google.colaboratory.intrinsic+json": {
              "type": "dataframe",
              "variable_name": "frequency",
              "summary": "{\n  \"name\": \"frequency\",\n  \"rows\": 736,\n  \"fields\": [\n    {\n      \"column\": \"Frequency [Classical]\",\n      \"properties\": {\n        \"dtype\": \"category\",\n        \"num_unique_values\": 4,\n        \"samples\": [\n          \"Sometimes\",\n          \"Very frequently\",\n          \"Rarely\"\n        ],\n        \"semantic_type\": \"\",\n        \"description\": \"\"\n      }\n    },\n    {\n      \"column\": \"Frequency [Country]\",\n      \"properties\": {\n        \"dtype\": \"category\",\n        \"num_unique_values\": 4,\n        \"samples\": [\n          \"Sometimes\",\n          \"Rarely\",\n          \"Never\"\n        ],\n        \"semantic_type\": \"\",\n        \"description\": \"\"\n      }\n    },\n    {\n      \"column\": \"Frequency [EDM]\",\n      \"properties\": {\n        \"dtype\": \"category\",\n        \"num_unique_values\": 4,\n        \"samples\": [\n          \"Never\",\n          \"Sometimes\",\n          \"Rarely\"\n        ],\n        \"semantic_type\": \"\",\n        \"description\": \"\"\n      }\n    },\n    {\n      \"column\": \"Frequency [Folk]\",\n      \"properties\": {\n        \"dtype\": \"category\",\n        \"num_unique_values\": 4,\n        \"samples\": [\n          \"Rarely\",\n          \"Very frequently\",\n          \"Never\"\n        ],\n        \"semantic_type\": \"\",\n        \"description\": \"\"\n      }\n    },\n    {\n      \"column\": \"Frequency [Gospel]\",\n      \"properties\": {\n        \"dtype\": \"category\",\n        \"num_unique_values\": 4,\n        \"samples\": [\n          \"Sometimes\",\n          \"Very frequently\",\n          \"Never\"\n        ],\n        \"semantic_type\": \"\",\n        \"description\": \"\"\n      }\n    },\n    {\n      \"column\": \"Frequency [Hip hop]\",\n      \"properties\": {\n        \"dtype\": \"category\",\n        \"num_unique_values\": 4,\n        \"samples\": [\n          \"Rarely\",\n          \"Very frequently\",\n          \"Sometimes\"\n        ],\n        \"semantic_type\": \"\",\n        \"description\": \"\"\n      }\n    },\n    {\n      \"column\": \"Frequency [Jazz]\",\n      \"properties\": {\n        \"dtype\": \"category\",\n        \"num_unique_values\": 4,\n        \"samples\": [\n          \"Very frequently\",\n          \"Sometimes\",\n          \"Never\"\n        ],\n        \"semantic_type\": \"\",\n        \"description\": \"\"\n      }\n    },\n    {\n      \"column\": \"Frequency [K pop]\",\n      \"properties\": {\n        \"dtype\": \"category\",\n        \"num_unique_values\": 4,\n        \"samples\": [\n          \"Rarely\",\n          \"Never\",\n          \"Very frequently\"\n        ],\n        \"semantic_type\": \"\",\n        \"description\": \"\"\n      }\n    },\n    {\n      \"column\": \"Frequency [Latin]\",\n      \"properties\": {\n        \"dtype\": \"category\",\n        \"num_unique_values\": 4,\n        \"samples\": [\n          \"Sometimes\",\n          \"Rarely\",\n          \"Very frequently\"\n        ],\n        \"semantic_type\": \"\",\n        \"description\": \"\"\n      }\n    },\n    {\n      \"column\": \"Frequency [Lofi]\",\n      \"properties\": {\n        \"dtype\": \"category\",\n        \"num_unique_values\": 4,\n        \"samples\": [\n          \"Sometimes\",\n          \"Never\",\n          \"Rarely\"\n        ],\n        \"semantic_type\": \"\",\n        \"description\": \"\"\n      }\n    },\n    {\n      \"column\": \"Frequency [Metal]\",\n      \"properties\": {\n        \"dtype\": \"category\",\n        \"num_unique_values\": 4,\n        \"samples\": [\n          \"Sometimes\",\n          \"Very frequently\",\n          \"Never\"\n        ],\n        \"semantic_type\": \"\",\n        \"description\": \"\"\n      }\n    },\n    {\n      \"column\": \"Frequency [Pop]\",\n      \"properties\": {\n        \"dtype\": \"category\",\n        \"num_unique_values\": 4,\n        \"samples\": [\n          \"Sometimes\",\n          \"Never\",\n          \"Very frequently\"\n        ],\n        \"semantic_type\": \"\",\n        \"description\": \"\"\n      }\n    },\n    {\n      \"column\": \"Frequency [R&B]\",\n      \"properties\": {\n        \"dtype\": \"category\",\n        \"num_unique_values\": 4,\n        \"samples\": [\n          \"Never\",\n          \"Rarely\",\n          \"Sometimes\"\n        ],\n        \"semantic_type\": \"\",\n        \"description\": \"\"\n      }\n    },\n    {\n      \"column\": \"Frequency [Rap]\",\n      \"properties\": {\n        \"dtype\": \"category\",\n        \"num_unique_values\": 4,\n        \"samples\": [\n          \"Rarely\",\n          \"Sometimes\",\n          \"Very frequently\"\n        ],\n        \"semantic_type\": \"\",\n        \"description\": \"\"\n      }\n    },\n    {\n      \"column\": \"Frequency [Rock]\",\n      \"properties\": {\n        \"dtype\": \"category\",\n        \"num_unique_values\": 4,\n        \"samples\": [\n          \"Very frequently\",\n          \"Sometimes\",\n          \"Never\"\n        ],\n        \"semantic_type\": \"\",\n        \"description\": \"\"\n      }\n    },\n    {\n      \"column\": \"Frequency [Video game music]\",\n      \"properties\": {\n        \"dtype\": \"category\",\n        \"num_unique_values\": 4,\n        \"samples\": [\n          \"Rarely\",\n          \"Never\",\n          \"Sometimes\"\n        ],\n        \"semantic_type\": \"\",\n        \"description\": \"\"\n      }\n    }\n  ]\n}"
            }
          },
          "metadata": {},
          "execution_count": 3
        }
      ]
    },
    {
      "cell_type": "code",
      "source": [
        "frequency.shape\n",
        "#there are 16 columns, so 16 different genres included"
      ],
      "metadata": {
        "colab": {
          "base_uri": "https://localhost:8080/"
        },
        "id": "EljFb2-LrxJz",
        "outputId": "c7d7f7ba-007c-4b5d-9b62-df85cfb209af"
      },
      "execution_count": 4,
      "outputs": [
        {
          "output_type": "execute_result",
          "data": {
            "text/plain": [
              "(736, 16)"
            ]
          },
          "metadata": {},
          "execution_count": 4
        }
      ]
    },
    {
      "cell_type": "code",
      "source": [
        "#changing the frequency data to be numeric (vs categorical)\n",
        "# 1 - Never. 2 - Rarely. 3 - Sometimes. 4 - Very frequently\n",
        "#this standardized the scale, so no need to use StandardScaler\n",
        "\n",
        "frequency.replace([\"Never\", \"Rarely\", \"Sometimes\", \"Very frequently\"], [\"1\", \"2\", \"3\", \"4\"], inplace=True)\n",
        "\n",
        "#to convert the values to numeric\n",
        "frequency = frequency.apply(pd.to_numeric, errors='coerce')"
      ],
      "metadata": {
        "id": "DnszhsDnsA4B",
        "colab": {
          "base_uri": "https://localhost:8080/"
        },
        "outputId": "19526141-c632-464a-c6a6-2709dfd88b0d"
      },
      "execution_count": 5,
      "outputs": [
        {
          "output_type": "stream",
          "name": "stderr",
          "text": [
            "<ipython-input-5-2b6c0d7eb321>:5: SettingWithCopyWarning: \n",
            "A value is trying to be set on a copy of a slice from a DataFrame\n",
            "\n",
            "See the caveats in the documentation: https://pandas.pydata.org/pandas-docs/stable/user_guide/indexing.html#returning-a-view-versus-a-copy\n",
            "  frequency.replace([\"Never\", \"Rarely\", \"Sometimes\", \"Very frequently\"], [\"1\", \"2\", \"3\", \"4\"], inplace=True)\n"
          ]
        }
      ]
    },
    {
      "cell_type": "code",
      "source": [
        "#check that the columns are integers\n",
        "print(frequency.dtypes)"
      ],
      "metadata": {
        "colab": {
          "base_uri": "https://localhost:8080/"
        },
        "id": "2R3WPsKCuV9c",
        "outputId": "fcea62ec-9b6c-4eeb-fdca-17f430adff1c"
      },
      "execution_count": 6,
      "outputs": [
        {
          "output_type": "stream",
          "name": "stdout",
          "text": [
            "Frequency [Classical]           int64\n",
            "Frequency [Country]             int64\n",
            "Frequency [EDM]                 int64\n",
            "Frequency [Folk]                int64\n",
            "Frequency [Gospel]              int64\n",
            "Frequency [Hip hop]             int64\n",
            "Frequency [Jazz]                int64\n",
            "Frequency [K pop]               int64\n",
            "Frequency [Latin]               int64\n",
            "Frequency [Lofi]                int64\n",
            "Frequency [Metal]               int64\n",
            "Frequency [Pop]                 int64\n",
            "Frequency [R&B]                 int64\n",
            "Frequency [Rap]                 int64\n",
            "Frequency [Rock]                int64\n",
            "Frequency [Video game music]    int64\n",
            "dtype: object\n"
          ]
        }
      ]
    },
    {
      "cell_type": "code",
      "source": [
        "frequency.head()"
      ],
      "metadata": {
        "colab": {
          "base_uri": "https://localhost:8080/",
          "height": 278
        },
        "id": "UFX67fDcuGb2",
        "outputId": "073ad733-52e5-4d6f-b6f4-cfc88eefdf42"
      },
      "execution_count": 7,
      "outputs": [
        {
          "output_type": "execute_result",
          "data": {
            "text/plain": [
              "   Frequency [Classical]  Frequency [Country]  Frequency [EDM]  \\\n",
              "0                      2                    1                2   \n",
              "1                      3                    1                1   \n",
              "2                      1                    1                4   \n",
              "3                      3                    1                1   \n",
              "4                      1                    1                2   \n",
              "\n",
              "   Frequency [Folk]  Frequency [Gospel]  Frequency [Hip hop]  \\\n",
              "0                 1                   1                    3   \n",
              "1                 2                   3                    2   \n",
              "2                 1                   1                    2   \n",
              "3                 2                   3                    1   \n",
              "4                 1                   2                    4   \n",
              "\n",
              "   Frequency [Jazz]  Frequency [K pop]  Frequency [Latin]  Frequency [Lofi]  \\\n",
              "0                 1                  4                  4                 2   \n",
              "1                 4                  2                  3                 2   \n",
              "2                 2                  4                  1                 3   \n",
              "3                 4                  3                  4                 3   \n",
              "4                 1                  4                  3                 3   \n",
              "\n",
              "   Frequency [Metal]  Frequency [Pop]  Frequency [R&B]  Frequency [Rap]  \\\n",
              "0                  1                4                3                4   \n",
              "1                  1                3                3                2   \n",
              "2                  3                2                1                2   \n",
              "3                  1                3                3                1   \n",
              "4                  1                3                4                4   \n",
              "\n",
              "   Frequency [Rock]  Frequency [Video game music]  \n",
              "0                 1                             3  \n",
              "1                 4                             2  \n",
              "2                 2                             4  \n",
              "3                 1                             1  \n",
              "4                 1                             2  "
            ],
            "text/html": [
              "\n",
              "  <div id=\"df-47dd4503-94de-4294-9f5d-1b2eb50bf451\" class=\"colab-df-container\">\n",
              "    <div>\n",
              "<style scoped>\n",
              "    .dataframe tbody tr th:only-of-type {\n",
              "        vertical-align: middle;\n",
              "    }\n",
              "\n",
              "    .dataframe tbody tr th {\n",
              "        vertical-align: top;\n",
              "    }\n",
              "\n",
              "    .dataframe thead th {\n",
              "        text-align: right;\n",
              "    }\n",
              "</style>\n",
              "<table border=\"1\" class=\"dataframe\">\n",
              "  <thead>\n",
              "    <tr style=\"text-align: right;\">\n",
              "      <th></th>\n",
              "      <th>Frequency [Classical]</th>\n",
              "      <th>Frequency [Country]</th>\n",
              "      <th>Frequency [EDM]</th>\n",
              "      <th>Frequency [Folk]</th>\n",
              "      <th>Frequency [Gospel]</th>\n",
              "      <th>Frequency [Hip hop]</th>\n",
              "      <th>Frequency [Jazz]</th>\n",
              "      <th>Frequency [K pop]</th>\n",
              "      <th>Frequency [Latin]</th>\n",
              "      <th>Frequency [Lofi]</th>\n",
              "      <th>Frequency [Metal]</th>\n",
              "      <th>Frequency [Pop]</th>\n",
              "      <th>Frequency [R&amp;B]</th>\n",
              "      <th>Frequency [Rap]</th>\n",
              "      <th>Frequency [Rock]</th>\n",
              "      <th>Frequency [Video game music]</th>\n",
              "    </tr>\n",
              "  </thead>\n",
              "  <tbody>\n",
              "    <tr>\n",
              "      <th>0</th>\n",
              "      <td>2</td>\n",
              "      <td>1</td>\n",
              "      <td>2</td>\n",
              "      <td>1</td>\n",
              "      <td>1</td>\n",
              "      <td>3</td>\n",
              "      <td>1</td>\n",
              "      <td>4</td>\n",
              "      <td>4</td>\n",
              "      <td>2</td>\n",
              "      <td>1</td>\n",
              "      <td>4</td>\n",
              "      <td>3</td>\n",
              "      <td>4</td>\n",
              "      <td>1</td>\n",
              "      <td>3</td>\n",
              "    </tr>\n",
              "    <tr>\n",
              "      <th>1</th>\n",
              "      <td>3</td>\n",
              "      <td>1</td>\n",
              "      <td>1</td>\n",
              "      <td>2</td>\n",
              "      <td>3</td>\n",
              "      <td>2</td>\n",
              "      <td>4</td>\n",
              "      <td>2</td>\n",
              "      <td>3</td>\n",
              "      <td>2</td>\n",
              "      <td>1</td>\n",
              "      <td>3</td>\n",
              "      <td>3</td>\n",
              "      <td>2</td>\n",
              "      <td>4</td>\n",
              "      <td>2</td>\n",
              "    </tr>\n",
              "    <tr>\n",
              "      <th>2</th>\n",
              "      <td>1</td>\n",
              "      <td>1</td>\n",
              "      <td>4</td>\n",
              "      <td>1</td>\n",
              "      <td>1</td>\n",
              "      <td>2</td>\n",
              "      <td>2</td>\n",
              "      <td>4</td>\n",
              "      <td>1</td>\n",
              "      <td>3</td>\n",
              "      <td>3</td>\n",
              "      <td>2</td>\n",
              "      <td>1</td>\n",
              "      <td>2</td>\n",
              "      <td>2</td>\n",
              "      <td>4</td>\n",
              "    </tr>\n",
              "    <tr>\n",
              "      <th>3</th>\n",
              "      <td>3</td>\n",
              "      <td>1</td>\n",
              "      <td>1</td>\n",
              "      <td>2</td>\n",
              "      <td>3</td>\n",
              "      <td>1</td>\n",
              "      <td>4</td>\n",
              "      <td>3</td>\n",
              "      <td>4</td>\n",
              "      <td>3</td>\n",
              "      <td>1</td>\n",
              "      <td>3</td>\n",
              "      <td>3</td>\n",
              "      <td>1</td>\n",
              "      <td>1</td>\n",
              "      <td>1</td>\n",
              "    </tr>\n",
              "    <tr>\n",
              "      <th>4</th>\n",
              "      <td>1</td>\n",
              "      <td>1</td>\n",
              "      <td>2</td>\n",
              "      <td>1</td>\n",
              "      <td>2</td>\n",
              "      <td>4</td>\n",
              "      <td>1</td>\n",
              "      <td>4</td>\n",
              "      <td>3</td>\n",
              "      <td>3</td>\n",
              "      <td>1</td>\n",
              "      <td>3</td>\n",
              "      <td>4</td>\n",
              "      <td>4</td>\n",
              "      <td>1</td>\n",
              "      <td>2</td>\n",
              "    </tr>\n",
              "  </tbody>\n",
              "</table>\n",
              "</div>\n",
              "    <div class=\"colab-df-buttons\">\n",
              "\n",
              "  <div class=\"colab-df-container\">\n",
              "    <button class=\"colab-df-convert\" onclick=\"convertToInteractive('df-47dd4503-94de-4294-9f5d-1b2eb50bf451')\"\n",
              "            title=\"Convert this dataframe to an interactive table.\"\n",
              "            style=\"display:none;\">\n",
              "\n",
              "  <svg xmlns=\"http://www.w3.org/2000/svg\" height=\"24px\" viewBox=\"0 -960 960 960\">\n",
              "    <path d=\"M120-120v-720h720v720H120Zm60-500h600v-160H180v160Zm220 220h160v-160H400v160Zm0 220h160v-160H400v160ZM180-400h160v-160H180v160Zm440 0h160v-160H620v160ZM180-180h160v-160H180v160Zm440 0h160v-160H620v160Z\"/>\n",
              "  </svg>\n",
              "    </button>\n",
              "\n",
              "  <style>\n",
              "    .colab-df-container {\n",
              "      display:flex;\n",
              "      gap: 12px;\n",
              "    }\n",
              "\n",
              "    .colab-df-convert {\n",
              "      background-color: #E8F0FE;\n",
              "      border: none;\n",
              "      border-radius: 50%;\n",
              "      cursor: pointer;\n",
              "      display: none;\n",
              "      fill: #1967D2;\n",
              "      height: 32px;\n",
              "      padding: 0 0 0 0;\n",
              "      width: 32px;\n",
              "    }\n",
              "\n",
              "    .colab-df-convert:hover {\n",
              "      background-color: #E2EBFA;\n",
              "      box-shadow: 0px 1px 2px rgba(60, 64, 67, 0.3), 0px 1px 3px 1px rgba(60, 64, 67, 0.15);\n",
              "      fill: #174EA6;\n",
              "    }\n",
              "\n",
              "    .colab-df-buttons div {\n",
              "      margin-bottom: 4px;\n",
              "    }\n",
              "\n",
              "    [theme=dark] .colab-df-convert {\n",
              "      background-color: #3B4455;\n",
              "      fill: #D2E3FC;\n",
              "    }\n",
              "\n",
              "    [theme=dark] .colab-df-convert:hover {\n",
              "      background-color: #434B5C;\n",
              "      box-shadow: 0px 1px 3px 1px rgba(0, 0, 0, 0.15);\n",
              "      filter: drop-shadow(0px 1px 2px rgba(0, 0, 0, 0.3));\n",
              "      fill: #FFFFFF;\n",
              "    }\n",
              "  </style>\n",
              "\n",
              "    <script>\n",
              "      const buttonEl =\n",
              "        document.querySelector('#df-47dd4503-94de-4294-9f5d-1b2eb50bf451 button.colab-df-convert');\n",
              "      buttonEl.style.display =\n",
              "        google.colab.kernel.accessAllowed ? 'block' : 'none';\n",
              "\n",
              "      async function convertToInteractive(key) {\n",
              "        const element = document.querySelector('#df-47dd4503-94de-4294-9f5d-1b2eb50bf451');\n",
              "        const dataTable =\n",
              "          await google.colab.kernel.invokeFunction('convertToInteractive',\n",
              "                                                    [key], {});\n",
              "        if (!dataTable) return;\n",
              "\n",
              "        const docLinkHtml = 'Like what you see? Visit the ' +\n",
              "          '<a target=\"_blank\" href=https://colab.research.google.com/notebooks/data_table.ipynb>data table notebook</a>'\n",
              "          + ' to learn more about interactive tables.';\n",
              "        element.innerHTML = '';\n",
              "        dataTable['output_type'] = 'display_data';\n",
              "        await google.colab.output.renderOutput(dataTable, element);\n",
              "        const docLink = document.createElement('div');\n",
              "        docLink.innerHTML = docLinkHtml;\n",
              "        element.appendChild(docLink);\n",
              "      }\n",
              "    </script>\n",
              "  </div>\n",
              "\n",
              "\n",
              "<div id=\"df-c9dcf461-59a5-4909-a4f9-2e335ef3cb60\">\n",
              "  <button class=\"colab-df-quickchart\" onclick=\"quickchart('df-c9dcf461-59a5-4909-a4f9-2e335ef3cb60')\"\n",
              "            title=\"Suggest charts\"\n",
              "            style=\"display:none;\">\n",
              "\n",
              "<svg xmlns=\"http://www.w3.org/2000/svg\" height=\"24px\"viewBox=\"0 0 24 24\"\n",
              "     width=\"24px\">\n",
              "    <g>\n",
              "        <path d=\"M19 3H5c-1.1 0-2 .9-2 2v14c0 1.1.9 2 2 2h14c1.1 0 2-.9 2-2V5c0-1.1-.9-2-2-2zM9 17H7v-7h2v7zm4 0h-2V7h2v10zm4 0h-2v-4h2v4z\"/>\n",
              "    </g>\n",
              "</svg>\n",
              "  </button>\n",
              "\n",
              "<style>\n",
              "  .colab-df-quickchart {\n",
              "      --bg-color: #E8F0FE;\n",
              "      --fill-color: #1967D2;\n",
              "      --hover-bg-color: #E2EBFA;\n",
              "      --hover-fill-color: #174EA6;\n",
              "      --disabled-fill-color: #AAA;\n",
              "      --disabled-bg-color: #DDD;\n",
              "  }\n",
              "\n",
              "  [theme=dark] .colab-df-quickchart {\n",
              "      --bg-color: #3B4455;\n",
              "      --fill-color: #D2E3FC;\n",
              "      --hover-bg-color: #434B5C;\n",
              "      --hover-fill-color: #FFFFFF;\n",
              "      --disabled-bg-color: #3B4455;\n",
              "      --disabled-fill-color: #666;\n",
              "  }\n",
              "\n",
              "  .colab-df-quickchart {\n",
              "    background-color: var(--bg-color);\n",
              "    border: none;\n",
              "    border-radius: 50%;\n",
              "    cursor: pointer;\n",
              "    display: none;\n",
              "    fill: var(--fill-color);\n",
              "    height: 32px;\n",
              "    padding: 0;\n",
              "    width: 32px;\n",
              "  }\n",
              "\n",
              "  .colab-df-quickchart:hover {\n",
              "    background-color: var(--hover-bg-color);\n",
              "    box-shadow: 0 1px 2px rgba(60, 64, 67, 0.3), 0 1px 3px 1px rgba(60, 64, 67, 0.15);\n",
              "    fill: var(--button-hover-fill-color);\n",
              "  }\n",
              "\n",
              "  .colab-df-quickchart-complete:disabled,\n",
              "  .colab-df-quickchart-complete:disabled:hover {\n",
              "    background-color: var(--disabled-bg-color);\n",
              "    fill: var(--disabled-fill-color);\n",
              "    box-shadow: none;\n",
              "  }\n",
              "\n",
              "  .colab-df-spinner {\n",
              "    border: 2px solid var(--fill-color);\n",
              "    border-color: transparent;\n",
              "    border-bottom-color: var(--fill-color);\n",
              "    animation:\n",
              "      spin 1s steps(1) infinite;\n",
              "  }\n",
              "\n",
              "  @keyframes spin {\n",
              "    0% {\n",
              "      border-color: transparent;\n",
              "      border-bottom-color: var(--fill-color);\n",
              "      border-left-color: var(--fill-color);\n",
              "    }\n",
              "    20% {\n",
              "      border-color: transparent;\n",
              "      border-left-color: var(--fill-color);\n",
              "      border-top-color: var(--fill-color);\n",
              "    }\n",
              "    30% {\n",
              "      border-color: transparent;\n",
              "      border-left-color: var(--fill-color);\n",
              "      border-top-color: var(--fill-color);\n",
              "      border-right-color: var(--fill-color);\n",
              "    }\n",
              "    40% {\n",
              "      border-color: transparent;\n",
              "      border-right-color: var(--fill-color);\n",
              "      border-top-color: var(--fill-color);\n",
              "    }\n",
              "    60% {\n",
              "      border-color: transparent;\n",
              "      border-right-color: var(--fill-color);\n",
              "    }\n",
              "    80% {\n",
              "      border-color: transparent;\n",
              "      border-right-color: var(--fill-color);\n",
              "      border-bottom-color: var(--fill-color);\n",
              "    }\n",
              "    90% {\n",
              "      border-color: transparent;\n",
              "      border-bottom-color: var(--fill-color);\n",
              "    }\n",
              "  }\n",
              "</style>\n",
              "\n",
              "  <script>\n",
              "    async function quickchart(key) {\n",
              "      const quickchartButtonEl =\n",
              "        document.querySelector('#' + key + ' button');\n",
              "      quickchartButtonEl.disabled = true;  // To prevent multiple clicks.\n",
              "      quickchartButtonEl.classList.add('colab-df-spinner');\n",
              "      try {\n",
              "        const charts = await google.colab.kernel.invokeFunction(\n",
              "            'suggestCharts', [key], {});\n",
              "      } catch (error) {\n",
              "        console.error('Error during call to suggestCharts:', error);\n",
              "      }\n",
              "      quickchartButtonEl.classList.remove('colab-df-spinner');\n",
              "      quickchartButtonEl.classList.add('colab-df-quickchart-complete');\n",
              "    }\n",
              "    (() => {\n",
              "      let quickchartButtonEl =\n",
              "        document.querySelector('#df-c9dcf461-59a5-4909-a4f9-2e335ef3cb60 button');\n",
              "      quickchartButtonEl.style.display =\n",
              "        google.colab.kernel.accessAllowed ? 'block' : 'none';\n",
              "    })();\n",
              "  </script>\n",
              "</div>\n",
              "    </div>\n",
              "  </div>\n"
            ],
            "application/vnd.google.colaboratory.intrinsic+json": {
              "type": "dataframe",
              "variable_name": "frequency",
              "summary": "{\n  \"name\": \"frequency\",\n  \"rows\": 736,\n  \"fields\": [\n    {\n      \"column\": \"Frequency [Classical]\",\n      \"properties\": {\n        \"dtype\": \"number\",\n        \"std\": 0,\n        \"min\": 1,\n        \"max\": 4,\n        \"num_unique_values\": 4,\n        \"samples\": [\n          3,\n          4,\n          2\n        ],\n        \"semantic_type\": \"\",\n        \"description\": \"\"\n      }\n    },\n    {\n      \"column\": \"Frequency [Country]\",\n      \"properties\": {\n        \"dtype\": \"number\",\n        \"std\": 0,\n        \"min\": 1,\n        \"max\": 4,\n        \"num_unique_values\": 4,\n        \"samples\": [\n          3,\n          2,\n          1\n        ],\n        \"semantic_type\": \"\",\n        \"description\": \"\"\n      }\n    },\n    {\n      \"column\": \"Frequency [EDM]\",\n      \"properties\": {\n        \"dtype\": \"number\",\n        \"std\": 1,\n        \"min\": 1,\n        \"max\": 4,\n        \"num_unique_values\": 4,\n        \"samples\": [\n          1,\n          3,\n          2\n        ],\n        \"semantic_type\": \"\",\n        \"description\": \"\"\n      }\n    },\n    {\n      \"column\": \"Frequency [Folk]\",\n      \"properties\": {\n        \"dtype\": \"number\",\n        \"std\": 1,\n        \"min\": 1,\n        \"max\": 4,\n        \"num_unique_values\": 4,\n        \"samples\": [\n          2,\n          4,\n          1\n        ],\n        \"semantic_type\": \"\",\n        \"description\": \"\"\n      }\n    },\n    {\n      \"column\": \"Frequency [Gospel]\",\n      \"properties\": {\n        \"dtype\": \"number\",\n        \"std\": 0,\n        \"min\": 1,\n        \"max\": 4,\n        \"num_unique_values\": 4,\n        \"samples\": [\n          3,\n          4,\n          1\n        ],\n        \"semantic_type\": \"\",\n        \"description\": \"\"\n      }\n    },\n    {\n      \"column\": \"Frequency [Hip hop]\",\n      \"properties\": {\n        \"dtype\": \"number\",\n        \"std\": 1,\n        \"min\": 1,\n        \"max\": 4,\n        \"num_unique_values\": 4,\n        \"samples\": [\n          2,\n          4,\n          3\n        ],\n        \"semantic_type\": \"\",\n        \"description\": \"\"\n      }\n    },\n    {\n      \"column\": \"Frequency [Jazz]\",\n      \"properties\": {\n        \"dtype\": \"number\",\n        \"std\": 0,\n        \"min\": 1,\n        \"max\": 4,\n        \"num_unique_values\": 4,\n        \"samples\": [\n          4,\n          3,\n          1\n        ],\n        \"semantic_type\": \"\",\n        \"description\": \"\"\n      }\n    },\n    {\n      \"column\": \"Frequency [K pop]\",\n      \"properties\": {\n        \"dtype\": \"number\",\n        \"std\": 1,\n        \"min\": 1,\n        \"max\": 4,\n        \"num_unique_values\": 4,\n        \"samples\": [\n          2,\n          1,\n          4\n        ],\n        \"semantic_type\": \"\",\n        \"description\": \"\"\n      }\n    },\n    {\n      \"column\": \"Frequency [Latin]\",\n      \"properties\": {\n        \"dtype\": \"number\",\n        \"std\": 0,\n        \"min\": 1,\n        \"max\": 4,\n        \"num_unique_values\": 4,\n        \"samples\": [\n          3,\n          2,\n          4\n        ],\n        \"semantic_type\": \"\",\n        \"description\": \"\"\n      }\n    },\n    {\n      \"column\": \"Frequency [Lofi]\",\n      \"properties\": {\n        \"dtype\": \"number\",\n        \"std\": 1,\n        \"min\": 1,\n        \"max\": 4,\n        \"num_unique_values\": 4,\n        \"samples\": [\n          3,\n          1,\n          2\n        ],\n        \"semantic_type\": \"\",\n        \"description\": \"\"\n      }\n    },\n    {\n      \"column\": \"Frequency [Metal]\",\n      \"properties\": {\n        \"dtype\": \"number\",\n        \"std\": 1,\n        \"min\": 1,\n        \"max\": 4,\n        \"num_unique_values\": 4,\n        \"samples\": [\n          3,\n          4,\n          1\n        ],\n        \"semantic_type\": \"\",\n        \"description\": \"\"\n      }\n    },\n    {\n      \"column\": \"Frequency [Pop]\",\n      \"properties\": {\n        \"dtype\": \"number\",\n        \"std\": 0,\n        \"min\": 1,\n        \"max\": 4,\n        \"num_unique_values\": 4,\n        \"samples\": [\n          3,\n          1,\n          4\n        ],\n        \"semantic_type\": \"\",\n        \"description\": \"\"\n      }\n    },\n    {\n      \"column\": \"Frequency [R&B]\",\n      \"properties\": {\n        \"dtype\": \"number\",\n        \"std\": 1,\n        \"min\": 1,\n        \"max\": 4,\n        \"num_unique_values\": 4,\n        \"samples\": [\n          1,\n          2,\n          3\n        ],\n        \"semantic_type\": \"\",\n        \"description\": \"\"\n      }\n    },\n    {\n      \"column\": \"Frequency [Rap]\",\n      \"properties\": {\n        \"dtype\": \"number\",\n        \"std\": 1,\n        \"min\": 1,\n        \"max\": 4,\n        \"num_unique_values\": 4,\n        \"samples\": [\n          2,\n          3,\n          4\n        ],\n        \"semantic_type\": \"\",\n        \"description\": \"\"\n      }\n    },\n    {\n      \"column\": \"Frequency [Rock]\",\n      \"properties\": {\n        \"dtype\": \"number\",\n        \"std\": 1,\n        \"min\": 1,\n        \"max\": 4,\n        \"num_unique_values\": 4,\n        \"samples\": [\n          4,\n          3,\n          1\n        ],\n        \"semantic_type\": \"\",\n        \"description\": \"\"\n      }\n    },\n    {\n      \"column\": \"Frequency [Video game music]\",\n      \"properties\": {\n        \"dtype\": \"number\",\n        \"std\": 1,\n        \"min\": 1,\n        \"max\": 4,\n        \"num_unique_values\": 4,\n        \"samples\": [\n          2,\n          1,\n          3\n        ],\n        \"semantic_type\": \"\",\n        \"description\": \"\"\n      }\n    }\n  ]\n}"
            }
          },
          "metadata": {},
          "execution_count": 7
        }
      ]
    },
    {
      "cell_type": "markdown",
      "source": [
        "##Conducting k-means"
      ],
      "metadata": {
        "id": "3k-P77qOzt0M"
      }
    },
    {
      "cell_type": "code",
      "source": [
        "#using PCA to figure out how many components are nneded for a high enough cev (over 0.9)\n",
        "my_model = PCA(n_components=16) #the 16 comes from 16 columns in the df after my cleaning (also 16 in features)\n",
        "my_model.fit_transform(frequency)\n",
        "\n",
        "#plotting the graph\n",
        "plt.plot(my_model.explained_variance_ratio_.cumsum())\n",
        "plt.xlabel('number of components')\n",
        "plt.ylabel('cumulative explained variance')"
      ],
      "metadata": {
        "colab": {
          "base_uri": "https://localhost:8080/",
          "height": 467
        },
        "id": "LzoEQJxP242N",
        "outputId": "e75b2699-ba44-4062-f390-815f72eee9b0"
      },
      "execution_count": 8,
      "outputs": [
        {
          "output_type": "execute_result",
          "data": {
            "text/plain": [
              "Text(0, 0.5, 'cumulative explained variance')"
            ]
          },
          "metadata": {},
          "execution_count": 8
        },
        {
          "output_type": "display_data",
          "data": {
            "text/plain": [
              "<Figure size 640x480 with 1 Axes>"
            ],
            "image/png": "[encoded data removed]"
          },
          "metadata": {}
        }
      ]
    },
    {
      "cell_type": "code",
      "source": [
        "#to figure out how many clusters to use - part 1\n",
        "sse = []\n",
        "for k in range(1, 50):\n",
        "    print(k)\n",
        "    kmeans = KMeans(n_clusters=k)\n",
        "    kmeans.fit(frequency)\n",
        "    sse.append(kmeans.inertia_)"
      ],
      "metadata": {
        "colab": {
          "base_uri": "https://localhost:8080/"
        },
        "id": "eUcxNjJO3Jzn",
        "outputId": "17161f74-a228-40d4-a24a-5bb93cac9b32"
      },
      "execution_count": 9,
      "outputs": [
        {
          "output_type": "stream",
          "name": "stdout",
          "text": [
            "1\n"
          ]
        },
        {
          "output_type": "stream",
          "name": "stderr",
          "text": [
            "/usr/local/lib/python3.10/dist-packages/sklearn/cluster/_kmeans.py:870: FutureWarning: The default value of `n_init` will change from 10 to 'auto' in 1.4. Set the value of `n_init` explicitly to suppress the warning\n",
            "  warnings.warn(\n"
          ]
        },
        {
          "output_type": "stream",
          "name": "stdout",
          "text": [
            "2\n"
          ]
        },
        {
          "output_type": "stream",
          "name": "stderr",
          "text": [
            "/usr/local/lib/python3.10/dist-packages/sklearn/cluster/_kmeans.py:870: FutureWarning: The default value of `n_init` will change from 10 to 'auto' in 1.4. Set the value of `n_init` explicitly to suppress the warning\n",
            "  warnings.warn(\n"
          ]
        },
        {
          "output_type": "stream",
          "name": "stdout",
          "text": [
            "3\n"
          ]
        },
        {
          "output_type": "stream",
          "name": "stderr",
          "text": [
            "/usr/local/lib/python3.10/dist-packages/sklearn/cluster/_kmeans.py:870: FutureWarning: The default value of `n_init` will change from 10 to 'auto' in 1.4. Set the value of `n_init` explicitly to suppress the warning\n",
            "  warnings.warn(\n"
          ]
        },
        {
          "output_type": "stream",
          "name": "stdout",
          "text": [
            "4\n"
          ]
        },
        {
          "output_type": "stream",
          "name": "stderr",
          "text": [
            "/usr/local/lib/python3.10/dist-packages/sklearn/cluster/_kmeans.py:870: FutureWarning: The default value of `n_init` will change from 10 to 'auto' in 1.4. Set the value of `n_init` explicitly to suppress the warning\n",
            "  warnings.warn(\n"
          ]
        },
        {
          "output_type": "stream",
          "name": "stdout",
          "text": [
            "5\n"
          ]
        },
        {
          "output_type": "stream",
          "name": "stderr",
          "text": [
            "/usr/local/lib/python3.10/dist-packages/sklearn/cluster/_kmeans.py:870: FutureWarning: The default value of `n_init` will change from 10 to 'auto' in 1.4. Set the value of `n_init` explicitly to suppress the warning\n",
            "  warnings.warn(\n"
          ]
        },
        {
          "output_type": "stream",
          "name": "stdout",
          "text": [
            "6\n"
          ]
        },
        {
          "output_type": "stream",
          "name": "stderr",
          "text": [
            "/usr/local/lib/python3.10/dist-packages/sklearn/cluster/_kmeans.py:870: FutureWarning: The default value of `n_init` will change from 10 to 'auto' in 1.4. Set the value of `n_init` explicitly to suppress the warning\n",
            "  warnings.warn(\n"
          ]
        },
        {
          "output_type": "stream",
          "name": "stdout",
          "text": [
            "7\n"
          ]
        },
        {
          "output_type": "stream",
          "name": "stderr",
          "text": [
            "/usr/local/lib/python3.10/dist-packages/sklearn/cluster/_kmeans.py:870: FutureWarning: The default value of `n_init` will change from 10 to 'auto' in 1.4. Set the value of `n_init` explicitly to suppress the warning\n",
            "  warnings.warn(\n"
          ]
        },
        {
          "output_type": "stream",
          "name": "stdout",
          "text": [
            "8\n"
          ]
        },
        {
          "output_type": "stream",
          "name": "stderr",
          "text": [
            "/usr/local/lib/python3.10/dist-packages/sklearn/cluster/_kmeans.py:870: FutureWarning: The default value of `n_init` will change from 10 to 'auto' in 1.4. Set the value of `n_init` explicitly to suppress the warning\n",
            "  warnings.warn(\n"
          ]
        },
        {
          "output_type": "stream",
          "name": "stdout",
          "text": [
            "9\n"
          ]
        },
        {
          "output_type": "stream",
          "name": "stderr",
          "text": [
            "/usr/local/lib/python3.10/dist-packages/sklearn/cluster/_kmeans.py:870: FutureWarning: The default value of `n_init` will change from 10 to 'auto' in 1.4. Set the value of `n_init` explicitly to suppress the warning\n",
            "  warnings.warn(\n"
          ]
        },
        {
          "output_type": "stream",
          "name": "stdout",
          "text": [
            "10\n"
          ]
        },
        {
          "output_type": "stream",
          "name": "stderr",
          "text": [
            "/usr/local/lib/python3.10/dist-packages/sklearn/cluster/_kmeans.py:870: FutureWarning: The default value of `n_init` will change from 10 to 'auto' in 1.4. Set the value of `n_init` explicitly to suppress the warning\n",
            "  warnings.warn(\n"
          ]
        },
        {
          "output_type": "stream",
          "name": "stdout",
          "text": [
            "11\n"
          ]
        },
        {
          "output_type": "stream",
          "name": "stderr",
          "text": [
            "/usr/local/lib/python3.10/dist-packages/sklearn/cluster/_kmeans.py:870: FutureWarning: The default value of `n_init` will change from 10 to 'auto' in 1.4. Set the value of `n_init` explicitly to suppress the warning\n",
            "  warnings.warn(\n"
          ]
        },
        {
          "output_type": "stream",
          "name": "stdout",
          "text": [
            "12\n"
          ]
        },
        {
          "output_type": "stream",
          "name": "stderr",
          "text": [
            "/usr/local/lib/python3.10/dist-packages/sklearn/cluster/_kmeans.py:870: FutureWarning: The default value of `n_init` will change from 10 to 'auto' in 1.4. Set the value of `n_init` explicitly to suppress the warning\n",
            "  warnings.warn(\n"
          ]
        },
        {
          "output_type": "stream",
          "name": "stdout",
          "text": [
            "13\n"
          ]
        },
        {
          "output_type": "stream",
          "name": "stderr",
          "text": [
            "/usr/local/lib/python3.10/dist-packages/sklearn/cluster/_kmeans.py:870: FutureWarning: The default value of `n_init` will change from 10 to 'auto' in 1.4. Set the value of `n_init` explicitly to suppress the warning\n",
            "  warnings.warn(\n"
          ]
        },
        {
          "output_type": "stream",
          "name": "stdout",
          "text": [
            "14\n"
          ]
        },
        {
          "output_type": "stream",
          "name": "stderr",
          "text": [
            "/usr/local/lib/python3.10/dist-packages/sklearn/cluster/_kmeans.py:870: FutureWarning: The default value of `n_init` will change from 10 to 'auto' in 1.4. Set the value of `n_init` explicitly to suppress the warning\n",
            "  warnings.warn(\n"
          ]
        },
        {
          "output_type": "stream",
          "name": "stdout",
          "text": [
            "15\n"
          ]
        },
        {
          "output_type": "stream",
          "name": "stderr",
          "text": [
            "/usr/local/lib/python3.10/dist-packages/sklearn/cluster/_kmeans.py:870: FutureWarning: The default value of `n_init` will change from 10 to 'auto' in 1.4. Set the value of `n_init` explicitly to suppress the warning\n",
            "  warnings.warn(\n"
          ]
        },
        {
          "output_type": "stream",
          "name": "stdout",
          "text": [
            "16\n"
          ]
        },
        {
          "output_type": "stream",
          "name": "stderr",
          "text": [
            "/usr/local/lib/python3.10/dist-packages/sklearn/cluster/_kmeans.py:870: FutureWarning: The default value of `n_init` will change from 10 to 'auto' in 1.4. Set the value of `n_init` explicitly to suppress the warning\n",
            "  warnings.warn(\n"
          ]
        },
        {
          "output_type": "stream",
          "name": "stdout",
          "text": [
            "17\n"
          ]
        },
        {
          "output_type": "stream",
          "name": "stderr",
          "text": [
            "/usr/local/lib/python3.10/dist-packages/sklearn/cluster/_kmeans.py:870: FutureWarning: The default value of `n_init` will change from 10 to 'auto' in 1.4. Set the value of `n_init` explicitly to suppress the warning\n",
            "  warnings.warn(\n"
          ]
        },
        {
          "output_type": "stream",
          "name": "stdout",
          "text": [
            "18\n"
          ]
        },
        {
          "output_type": "stream",
          "name": "stderr",
          "text": [
            "/usr/local/lib/python3.10/dist-packages/sklearn/cluster/_kmeans.py:870: FutureWarning: The default value of `n_init` will change from 10 to 'auto' in 1.4. Set the value of `n_init` explicitly to suppress the warning\n",
            "  warnings.warn(\n"
          ]
        },
        {
          "output_type": "stream",
          "name": "stdout",
          "text": [
            "19\n"
          ]
        },
        {
          "output_type": "stream",
          "name": "stderr",
          "text": [
            "/usr/local/lib/python3.10/dist-packages/sklearn/cluster/_kmeans.py:870: FutureWarning: The default value of `n_init` will change from 10 to 'auto' in 1.4. Set the value of `n_init` explicitly to suppress the warning\n",
            "  warnings.warn(\n"
          ]
        },
        {
          "output_type": "stream",
          "name": "stdout",
          "text": [
            "20\n"
          ]
        },
        {
          "output_type": "stream",
          "name": "stderr",
          "text": [
            "/usr/local/lib/python3.10/dist-packages/sklearn/cluster/_kmeans.py:870: FutureWarning: The default value of `n_init` will change from 10 to 'auto' in 1.4. Set the value of `n_init` explicitly to suppress the warning\n",
            "  warnings.warn(\n"
          ]
        },
        {
          "output_type": "stream",
          "name": "stdout",
          "text": [
            "21\n",
            "22\n"
          ]
        },
        {
          "output_type": "stream",
          "name": "stderr",
          "text": [
            "/usr/local/lib/python3.10/dist-packages/sklearn/cluster/_kmeans.py:870: FutureWarning: The default value of `n_init` will change from 10 to 'auto' in 1.4. Set the value of `n_init` explicitly to suppress the warning\n",
            "  warnings.warn(\n",
            "/usr/local/lib/python3.10/dist-packages/sklearn/cluster/_kmeans.py:870: FutureWarning: The default value of `n_init` will change from 10 to 'auto' in 1.4. Set the value of `n_init` explicitly to suppress the warning\n",
            "  warnings.warn(\n"
          ]
        },
        {
          "output_type": "stream",
          "name": "stdout",
          "text": [
            "23\n"
          ]
        },
        {
          "output_type": "stream",
          "name": "stderr",
          "text": [
            "/usr/local/lib/python3.10/dist-packages/sklearn/cluster/_kmeans.py:870: FutureWarning: The default value of `n_init` will change from 10 to 'auto' in 1.4. Set the value of `n_init` explicitly to suppress the warning\n",
            "  warnings.warn(\n"
          ]
        },
        {
          "output_type": "stream",
          "name": "stdout",
          "text": [
            "24\n"
          ]
        },
        {
          "output_type": "stream",
          "name": "stderr",
          "text": [
            "/usr/local/lib/python3.10/dist-packages/sklearn/cluster/_kmeans.py:870: FutureWarning: The default value of `n_init` will change from 10 to 'auto' in 1.4. Set the value of `n_init` explicitly to suppress the warning\n",
            "  warnings.warn(\n"
          ]
        },
        {
          "output_type": "stream",
          "name": "stdout",
          "text": [
            "25\n"
          ]
        },
        {
          "output_type": "stream",
          "name": "stderr",
          "text": [
            "/usr/local/lib/python3.10/dist-packages/sklearn/cluster/_kmeans.py:870: FutureWarning: The default value of `n_init` will change from 10 to 'auto' in 1.4. Set the value of `n_init` explicitly to suppress the warning\n",
            "  warnings.warn(\n"
          ]
        },
        {
          "output_type": "stream",
          "name": "stdout",
          "text": [
            "26\n"
          ]
        },
        {
          "output_type": "stream",
          "name": "stderr",
          "text": [
            "/usr/local/lib/python3.10/dist-packages/sklearn/cluster/_kmeans.py:870: FutureWarning: The default value of `n_init` will change from 10 to 'auto' in 1.4. Set the value of `n_init` explicitly to suppress the warning\n",
            "  warnings.warn(\n"
          ]
        },
        {
          "output_type": "stream",
          "name": "stdout",
          "text": [
            "27\n"
          ]
        },
        {
          "output_type": "stream",
          "name": "stderr",
          "text": [
            "/usr/local/lib/python3.10/dist-packages/sklearn/cluster/_kmeans.py:870: FutureWarning: The default value of `n_init` will change from 10 to 'auto' in 1.4. Set the value of `n_init` explicitly to suppress the warning\n",
            "  warnings.warn(\n"
          ]
        },
        {
          "output_type": "stream",
          "name": "stdout",
          "text": [
            "28\n"
          ]
        },
        {
          "output_type": "stream",
          "name": "stderr",
          "text": [
            "/usr/local/lib/python3.10/dist-packages/sklearn/cluster/_kmeans.py:870: FutureWarning: The default value of `n_init` will change from 10 to 'auto' in 1.4. Set the value of `n_init` explicitly to suppress the warning\n",
            "  warnings.warn(\n"
          ]
        },
        {
          "output_type": "stream",
          "name": "stdout",
          "text": [
            "29\n"
          ]
        },
        {
          "output_type": "stream",
          "name": "stderr",
          "text": [
            "/usr/local/lib/python3.10/dist-packages/sklearn/cluster/_kmeans.py:870: FutureWarning: The default value of `n_init` will change from 10 to 'auto' in 1.4. Set the value of `n_init` explicitly to suppress the warning\n",
            "  warnings.warn(\n"
          ]
        },
        {
          "output_type": "stream",
          "name": "stdout",
          "text": [
            "30\n"
          ]
        },
        {
          "output_type": "stream",
          "name": "stderr",
          "text": [
            "/usr/local/lib/python3.10/dist-packages/sklearn/cluster/_kmeans.py:870: FutureWarning: The default value of `n_init` will change from 10 to 'auto' in 1.4. Set the value of `n_init` explicitly to suppress the warning\n",
            "  warnings.warn(\n"
          ]
        },
        {
          "output_type": "stream",
          "name": "stdout",
          "text": [
            "31\n"
          ]
        },
        {
          "output_type": "stream",
          "name": "stderr",
          "text": [
            "/usr/local/lib/python3.10/dist-packages/sklearn/cluster/_kmeans.py:870: FutureWarning: The default value of `n_init` will change from 10 to 'auto' in 1.4. Set the value of `n_init` explicitly to suppress the warning\n",
            "  warnings.warn(\n"
          ]
        },
        {
          "output_type": "stream",
          "name": "stdout",
          "text": [
            "32\n"
          ]
        },
        {
          "output_type": "stream",
          "name": "stderr",
          "text": [
            "/usr/local/lib/python3.10/dist-packages/sklearn/cluster/_kmeans.py:870: FutureWarning: The default value of `n_init` will change from 10 to 'auto' in 1.4. Set the value of `n_init` explicitly to suppress the warning\n",
            "  warnings.warn(\n"
          ]
        },
        {
          "output_type": "stream",
          "name": "stdout",
          "text": [
            "33\n"
          ]
        },
        {
          "output_type": "stream",
          "name": "stderr",
          "text": [
            "/usr/local/lib/python3.10/dist-packages/sklearn/cluster/_kmeans.py:870: FutureWarning: The default value of `n_init` will change from 10 to 'auto' in 1.4. Set the value of `n_init` explicitly to suppress the warning\n",
            "  warnings.warn(\n"
          ]
        },
        {
          "output_type": "stream",
          "name": "stdout",
          "text": [
            "34\n"
          ]
        },
        {
          "output_type": "stream",
          "name": "stderr",
          "text": [
            "/usr/local/lib/python3.10/dist-packages/sklearn/cluster/_kmeans.py:870: FutureWarning: The default value of `n_init` will change from 10 to 'auto' in 1.4. Set the value of `n_init` explicitly to suppress the warning\n",
            "  warnings.warn(\n"
          ]
        },
        {
          "output_type": "stream",
          "name": "stdout",
          "text": [
            "35\n"
          ]
        },
        {
          "output_type": "stream",
          "name": "stderr",
          "text": [
            "/usr/local/lib/python3.10/dist-packages/sklearn/cluster/_kmeans.py:870: FutureWarning: The default value of `n_init` will change from 10 to 'auto' in 1.4. Set the value of `n_init` explicitly to suppress the warning\n",
            "  warnings.warn(\n"
          ]
        },
        {
          "output_type": "stream",
          "name": "stdout",
          "text": [
            "36\n"
          ]
        },
        {
          "output_type": "stream",
          "name": "stderr",
          "text": [
            "/usr/local/lib/python3.10/dist-packages/sklearn/cluster/_kmeans.py:870: FutureWarning: The default value of `n_init` will change from 10 to 'auto' in 1.4. Set the value of `n_init` explicitly to suppress the warning\n",
            "  warnings.warn(\n"
          ]
        },
        {
          "output_type": "stream",
          "name": "stdout",
          "text": [
            "37\n"
          ]
        },
        {
          "output_type": "stream",
          "name": "stderr",
          "text": [
            "/usr/local/lib/python3.10/dist-packages/sklearn/cluster/_kmeans.py:870: FutureWarning: The default value of `n_init` will change from 10 to 'auto' in 1.4. Set the value of `n_init` explicitly to suppress the warning\n",
            "  warnings.warn(\n"
          ]
        },
        {
          "output_type": "stream",
          "name": "stdout",
          "text": [
            "38\n"
          ]
        },
        {
          "output_type": "stream",
          "name": "stderr",
          "text": [
            "/usr/local/lib/python3.10/dist-packages/sklearn/cluster/_kmeans.py:870: FutureWarning: The default value of `n_init` will change from 10 to 'auto' in 1.4. Set the value of `n_init` explicitly to suppress the warning\n",
            "  warnings.warn(\n"
          ]
        },
        {
          "output_type": "stream",
          "name": "stdout",
          "text": [
            "39\n"
          ]
        },
        {
          "output_type": "stream",
          "name": "stderr",
          "text": [
            "/usr/local/lib/python3.10/dist-packages/sklearn/cluster/_kmeans.py:870: FutureWarning: The default value of `n_init` will change from 10 to 'auto' in 1.4. Set the value of `n_init` explicitly to suppress the warning\n",
            "  warnings.warn(\n"
          ]
        },
        {
          "output_type": "stream",
          "name": "stdout",
          "text": [
            "40\n"
          ]
        },
        {
          "output_type": "stream",
          "name": "stderr",
          "text": [
            "/usr/local/lib/python3.10/dist-packages/sklearn/cluster/_kmeans.py:870: FutureWarning: The default value of `n_init` will change from 10 to 'auto' in 1.4. Set the value of `n_init` explicitly to suppress the warning\n",
            "  warnings.warn(\n"
          ]
        },
        {
          "output_type": "stream",
          "name": "stdout",
          "text": [
            "41\n"
          ]
        },
        {
          "output_type": "stream",
          "name": "stderr",
          "text": [
            "/usr/local/lib/python3.10/dist-packages/sklearn/cluster/_kmeans.py:870: FutureWarning: The default value of `n_init` will change from 10 to 'auto' in 1.4. Set the value of `n_init` explicitly to suppress the warning\n",
            "  warnings.warn(\n"
          ]
        },
        {
          "output_type": "stream",
          "name": "stdout",
          "text": [
            "42\n"
          ]
        },
        {
          "output_type": "stream",
          "name": "stderr",
          "text": [
            "/usr/local/lib/python3.10/dist-packages/sklearn/cluster/_kmeans.py:870: FutureWarning: The default value of `n_init` will change from 10 to 'auto' in 1.4. Set the value of `n_init` explicitly to suppress the warning\n",
            "  warnings.warn(\n"
          ]
        },
        {
          "output_type": "stream",
          "name": "stdout",
          "text": [
            "43\n"
          ]
        },
        {
          "output_type": "stream",
          "name": "stderr",
          "text": [
            "/usr/local/lib/python3.10/dist-packages/sklearn/cluster/_kmeans.py:870: FutureWarning: The default value of `n_init` will change from 10 to 'auto' in 1.4. Set the value of `n_init` explicitly to suppress the warning\n",
            "  warnings.warn(\n"
          ]
        },
        {
          "output_type": "stream",
          "name": "stdout",
          "text": [
            "44\n",
            "45\n"
          ]
        },
        {
          "output_type": "stream",
          "name": "stderr",
          "text": [
            "/usr/local/lib/python3.10/dist-packages/sklearn/cluster/_kmeans.py:870: FutureWarning: The default value of `n_init` will change from 10 to 'auto' in 1.4. Set the value of `n_init` explicitly to suppress the warning\n",
            "  warnings.warn(\n",
            "/usr/local/lib/python3.10/dist-packages/sklearn/cluster/_kmeans.py:870: FutureWarning: The default value of `n_init` will change from 10 to 'auto' in 1.4. Set the value of `n_init` explicitly to suppress the warning\n",
            "  warnings.warn(\n"
          ]
        },
        {
          "output_type": "stream",
          "name": "stdout",
          "text": [
            "46\n"
          ]
        },
        {
          "output_type": "stream",
          "name": "stderr",
          "text": [
            "/usr/local/lib/python3.10/dist-packages/sklearn/cluster/_kmeans.py:870: FutureWarning: The default value of `n_init` will change from 10 to 'auto' in 1.4. Set the value of `n_init` explicitly to suppress the warning\n",
            "  warnings.warn(\n"
          ]
        },
        {
          "output_type": "stream",
          "name": "stdout",
          "text": [
            "47\n"
          ]
        },
        {
          "output_type": "stream",
          "name": "stderr",
          "text": [
            "/usr/local/lib/python3.10/dist-packages/sklearn/cluster/_kmeans.py:870: FutureWarning: The default value of `n_init` will change from 10 to 'auto' in 1.4. Set the value of `n_init` explicitly to suppress the warning\n",
            "  warnings.warn(\n"
          ]
        },
        {
          "output_type": "stream",
          "name": "stdout",
          "text": [
            "48\n"
          ]
        },
        {
          "output_type": "stream",
          "name": "stderr",
          "text": [
            "/usr/local/lib/python3.10/dist-packages/sklearn/cluster/_kmeans.py:870: FutureWarning: The default value of `n_init` will change from 10 to 'auto' in 1.4. Set the value of `n_init` explicitly to suppress the warning\n",
            "  warnings.warn(\n"
          ]
        },
        {
          "output_type": "stream",
          "name": "stdout",
          "text": [
            "49\n"
          ]
        },
        {
          "output_type": "stream",
          "name": "stderr",
          "text": [
            "/usr/local/lib/python3.10/dist-packages/sklearn/cluster/_kmeans.py:870: FutureWarning: The default value of `n_init` will change from 10 to 'auto' in 1.4. Set the value of `n_init` explicitly to suppress the warning\n",
            "  warnings.warn(\n"
          ]
        }
      ]
    },
    {
      "cell_type": "code",
      "source": [
        "#to figure out how many clusters to use - part 2, the graph\n",
        "plt.plot(range(1, len(sse)+1), sse, marker='o')\n",
        "plt.xticks(range(1, len(sse)+1))\n",
        "plt.xlabel(\"Number of Clusters\")\n",
        "plt.ylabel(\"SSE\")\n",
        "plt.show()"
      ],
      "metadata": {
        "colab": {
          "base_uri": "https://localhost:8080/",
          "height": 449
        },
        "id": "2dy_Z97l3OxL",
        "outputId": "fddd4f28-4bbc-4c55-861f-8cd737e727a4"
      },
      "execution_count": 10,
      "outputs": [
        {
          "output_type": "display_data",
          "data": {
            "text/plain": [
              "<Figure size 640x480 with 1 Axes>"
            ],
            "image/png": "[encoded data removed]"
          },
          "metadata": {}
        }
      ]
    },
    {
      "cell_type": "code",
      "source": [
        "#creating the actual model\n",
        "#using 15 clusters and 12 components\n",
        "model = KMeans(n_clusters = 15, random_state = 42)\n",
        "cluster_labels = model.fit_predict(frequency)\n",
        "\n",
        "dims = PCA(n_components=12)\n",
        "pca_dims = dims.fit_transform(frequency)\n",
        "\n",
        "#to plot the graph\n",
        "fig, ax = plt.subplots(1, 1, figsize=(8,8))\n",
        "#only plots first two cols\n",
        "ax.scatter(pca_dims[:,0], pca_dims[:,1], c=cluster_labels)\n",
        "ax.set_title(\"K-Means Clustering Results with K=15\")"
      ],
      "metadata": {
        "colab": {
          "base_uri": "https://localhost:8080/",
          "height": 773
        },
        "id": "QpU9mD5Mvvak",
        "outputId": "f56b57a1-c880-468a-d788-946cc0046c18"
      },
      "execution_count": 11,
      "outputs": [
        {
          "output_type": "stream",
          "name": "stderr",
          "text": [
            "/usr/local/lib/python3.10/dist-packages/sklearn/cluster/_kmeans.py:870: FutureWarning: The default value of `n_init` will change from 10 to 'auto' in 1.4. Set the value of `n_init` explicitly to suppress the warning\n",
            "  warnings.warn(\n"
          ]
        },
        {
          "output_type": "execute_result",
          "data": {
            "text/plain": [
              "Text(0.5, 1.0, 'K-Means Clustering Results with K=15')"
            ]
          },
          "metadata": {},
          "execution_count": 11
        },
        {
          "output_type": "display_data",
          "data": {
            "text/plain": [
              "<Figure size 800x800 with 1 Axes>"
            ],
            "image/png": "[encoded data removed]"
          },
          "metadata": {}
        }
      ]
    },
    {
      "cell_type": "markdown",
      "source": [
        "##Formatting mxmh for analysis"
      ],
      "metadata": {
        "id": "yKfoccba61Dk"
      }
    },
    {
      "cell_type": "code",
      "source": [
        "#editing mxmh to show the numerical frequencies\n",
        "mxmh.replace([\"Never\", \"Rarely\", \"Sometimes\", \"Very frequently\"], [\"1\", \"2\", \"3\", \"4\"], inplace=True)\n",
        "\n",
        "columns_to_convert = [\"Frequency [Classical]\", \"Frequency [Country]\", \"Frequency [EDM]\", \"Frequency [Folk]\", \"Frequency [Gospel]\",\n",
        "                  \"Frequency [Hip hop]\", \"Frequency [Jazz]\", \"Frequency [K pop]\", \"Frequency [Latin]\", \"Frequency [Lofi]\",\n",
        "                  \"Frequency [Metal]\", \"Frequency [Pop]\", \"Frequency [R&B]\", \"Frequency [Rap]\", \"Frequency [Rock]\", \"Frequency [Video game music]\"]\n",
        "\n",
        "#convert specified columns to numeric using apply\n",
        "mxmh[columns_to_convert] = mxmh[columns_to_convert].apply(pd.to_numeric)"
      ],
      "metadata": {
        "id": "DNwZRivz2B1G"
      },
      "execution_count": 12,
      "outputs": []
    },
    {
      "cell_type": "code",
      "source": [
        "mxmh[\"cluster_label\"] = model.labels_"
      ],
      "metadata": {
        "id": "obSCxnPSxaMo"
      },
      "execution_count": 13,
      "outputs": []
    },
    {
      "cell_type": "code",
      "source": [
        "mxmh[\"cluster_label\"].value_counts()"
      ],
      "metadata": {
        "colab": {
          "base_uri": "https://localhost:8080/"
        },
        "id": "8reZPGkW0uLL",
        "outputId": "2fba9fcb-08f7-4ddf-8007-fe4ca3bccf5b"
      },
      "execution_count": 14,
      "outputs": [
        {
          "output_type": "execute_result",
          "data": {
            "text/plain": [
              "cluster_label\n",
              "2     65\n",
              "6     63\n",
              "1     63\n",
              "11    60\n",
              "12    56\n",
              "14    51\n",
              "13    50\n",
              "8     48\n",
              "5     46\n",
              "0     44\n",
              "3     43\n",
              "7     42\n",
              "9     38\n",
              "4     35\n",
              "10    32\n",
              "Name: count, dtype: int64"
            ]
          },
          "metadata": {},
          "execution_count": 14
        }
      ]
    },
    {
      "cell_type": "code",
      "source": [
        "pd.set_option(\"display.max_columns\", 100)\n",
        "pd.set_option(\"display.max_row\", 100)"
      ],
      "metadata": {
        "id": "vxzXYT9C05M_"
      },
      "execution_count": 15,
      "outputs": []
    },
    {
      "cell_type": "code",
      "source": [
        "mxmh.head()"
      ],
      "metadata": {
        "colab": {
          "base_uri": "https://localhost:8080/",
          "height": 382
        },
        "id": "H_qORcfj35yH",
        "outputId": "af1a4b6d-6fda-47ac-fe65-c00e62264768"
      },
      "execution_count": 16,
      "outputs": [
        {
          "output_type": "execute_result",
          "data": {
            "text/plain": [
              "            Timestamp   Age Primary streaming service  Hours per day  \\\n",
              "0  8/27/2022 19:29:02  18.0                   Spotify            3.0   \n",
              "1  8/27/2022 19:57:31  63.0                   Pandora            1.5   \n",
              "2  8/27/2022 21:28:18  18.0                   Spotify            4.0   \n",
              "3  8/27/2022 21:40:40  61.0             YouTube Music            2.5   \n",
              "4  8/27/2022 21:54:47  18.0                   Spotify            4.0   \n",
              "\n",
              "  While working Instrumentalist Composer         Fav genre Exploratory  \\\n",
              "0           Yes             Yes      Yes             Latin         Yes   \n",
              "1           Yes              No       No              Rock         Yes   \n",
              "2            No              No       No  Video game music          No   \n",
              "3           Yes              No      Yes              Jazz         Yes   \n",
              "4           Yes              No       No               R&B         Yes   \n",
              "\n",
              "  Foreign languages    BPM  Frequency [Classical]  Frequency [Country]  \\\n",
              "0               Yes  156.0                      2                    1   \n",
              "1                No  119.0                      3                    1   \n",
              "2               Yes  132.0                      1                    1   \n",
              "3               Yes   84.0                      3                    1   \n",
              "4                No  107.0                      1                    1   \n",
              "\n",
              "   Frequency [EDM]  Frequency [Folk]  Frequency [Gospel]  Frequency [Hip hop]  \\\n",
              "0                2                 1                   1                    3   \n",
              "1                1                 2                   3                    2   \n",
              "2                4                 1                   1                    2   \n",
              "3                1                 2                   3                    1   \n",
              "4                2                 1                   2                    4   \n",
              "\n",
              "   Frequency [Jazz]  Frequency [K pop]  Frequency [Latin]  Frequency [Lofi]  \\\n",
              "0                 1                  4                  4                 2   \n",
              "1                 4                  2                  3                 2   \n",
              "2                 2                  4                  1                 3   \n",
              "3                 4                  3                  4                 3   \n",
              "4                 1                  4                  3                 3   \n",
              "\n",
              "   Frequency [Metal]  Frequency [Pop]  Frequency [R&B]  Frequency [Rap]  \\\n",
              "0                  1                4                3                4   \n",
              "1                  1                3                3                2   \n",
              "2                  3                2                1                2   \n",
              "3                  1                3                3                1   \n",
              "4                  1                3                4                4   \n",
              "\n",
              "   Frequency [Rock]  Frequency [Video game music]  Anxiety  Depression  \\\n",
              "0                 1                             3      3.0         0.0   \n",
              "1                 4                             2      7.0         2.0   \n",
              "2                 2                             4      7.0         7.0   \n",
              "3                 1                             1      9.0         7.0   \n",
              "4                 1                             2      7.0         2.0   \n",
              "\n",
              "   Insomnia  OCD Music effects    Permissions  cluster_label  \n",
              "0       1.0  0.0           NaN  I understand.              4  \n",
              "1       2.0  1.0           NaN  I understand.              9  \n",
              "2      10.0  2.0     No effect  I understand.              3  \n",
              "3       3.0  3.0       Improve  I understand.             10  \n",
              "4       5.0  9.0       Improve  I understand.              4  "
            ],
            "text/html": [
              "\n",
              "  <div id=\"df-85b7fa2a-2b99-4985-af02-fa78513d7431\" class=\"colab-df-container\">\n",
              "    <div>\n",
              "<style scoped>\n",
              "    .dataframe tbody tr th:only-of-type {\n",
              "        vertical-align: middle;\n",
              "    }\n",
              "\n",
              "    .dataframe tbody tr th {\n",
              "        vertical-align: top;\n",
              "    }\n",
              "\n",
              "    .dataframe thead th {\n",
              "        text-align: right;\n",
              "    }\n",
              "</style>\n",
              "<table border=\"1\" class=\"dataframe\">\n",
              "  <thead>\n",
              "    <tr style=\"text-align: right;\">\n",
              "      <th></th>\n",
              "      <th>Timestamp</th>\n",
              "      <th>Age</th>\n",
              "      <th>Primary streaming service</th>\n",
              "      <th>Hours per day</th>\n",
              "      <th>While working</th>\n",
              "      <th>Instrumentalist</th>\n",
              "      <th>Composer</th>\n",
              "      <th>Fav genre</th>\n",
              "      <th>Exploratory</th>\n",
              "      <th>Foreign languages</th>\n",
              "      <th>BPM</th>\n",
              "      <th>Frequency [Classical]</th>\n",
              "      <th>Frequency [Country]</th>\n",
              "      <th>Frequency [EDM]</th>\n",
              "      <th>Frequency [Folk]</th>\n",
              "      <th>Frequency [Gospel]</th>\n",
              "      <th>Frequency [Hip hop]</th>\n",
              "      <th>Frequency [Jazz]</th>\n",
              "      <th>Frequency [K pop]</th>\n",
              "      <th>Frequency [Latin]</th>\n",
              "      <th>Frequency [Lofi]</th>\n",
              "      <th>Frequency [Metal]</th>\n",
              "      <th>Frequency [Pop]</th>\n",
              "      <th>Frequency [R&amp;B]</th>\n",
              "      <th>Frequency [Rap]</th>\n",
              "      <th>Frequency [Rock]</th>\n",
              "      <th>Frequency [Video game music]</th>\n",
              "      <th>Anxiety</th>\n",
              "      <th>Depression</th>\n",
              "      <th>Insomnia</th>\n",
              "      <th>OCD</th>\n",
              "      <th>Music effects</th>\n",
              "      <th>Permissions</th>\n",
              "      <th>cluster_label</th>\n",
              "    </tr>\n",
              "  </thead>\n",
              "  <tbody>\n",
              "    <tr>\n",
              "      <th>0</th>\n",
              "      <td>8/27/2022 19:29:02</td>\n",
              "      <td>18.0</td>\n",
              "      <td>Spotify</td>\n",
              "      <td>3.0</td>\n",
              "      <td>Yes</td>\n",
              "      <td>Yes</td>\n",
              "      <td>Yes</td>\n",
              "      <td>Latin</td>\n",
              "      <td>Yes</td>\n",
              "      <td>Yes</td>\n",
              "      <td>156.0</td>\n",
              "      <td>2</td>\n",
              "      <td>1</td>\n",
              "      <td>2</td>\n",
              "      <td>1</td>\n",
              "      <td>1</td>\n",
              "      <td>3</td>\n",
              "      <td>1</td>\n",
              "      <td>4</td>\n",
              "      <td>4</td>\n",
              "      <td>2</td>\n",
              "      <td>1</td>\n",
              "      <td>4</td>\n",
              "      <td>3</td>\n",
              "      <td>4</td>\n",
              "      <td>1</td>\n",
              "      <td>3</td>\n",
              "      <td>3.0</td>\n",
              "      <td>0.0</td>\n",
              "      <td>1.0</td>\n",
              "      <td>0.0</td>\n",
              "      <td>NaN</td>\n",
              "      <td>I understand.</td>\n",
              "      <td>4</td>\n",
              "    </tr>\n",
              "    <tr>\n",
              "      <th>1</th>\n",
              "      <td>8/27/2022 19:57:31</td>\n",
              "      <td>63.0</td>\n",
              "      <td>Pandora</td>\n",
              "      <td>1.5</td>\n",
              "      <td>Yes</td>\n",
              "      <td>No</td>\n",
              "      <td>No</td>\n",
              "      <td>Rock</td>\n",
              "      <td>Yes</td>\n",
              "      <td>No</td>\n",
              "      <td>119.0</td>\n",
              "      <td>3</td>\n",
              "      <td>1</td>\n",
              "      <td>1</td>\n",
              "      <td>2</td>\n",
              "      <td>3</td>\n",
              "      <td>2</td>\n",
              "      <td>4</td>\n",
              "      <td>2</td>\n",
              "      <td>3</td>\n",
              "      <td>2</td>\n",
              "      <td>1</td>\n",
              "      <td>3</td>\n",
              "      <td>3</td>\n",
              "      <td>2</td>\n",
              "      <td>4</td>\n",
              "      <td>2</td>\n",
              "      <td>7.0</td>\n",
              "      <td>2.0</td>\n",
              "      <td>2.0</td>\n",
              "      <td>1.0</td>\n",
              "      <td>NaN</td>\n",
              "      <td>I understand.</td>\n",
              "      <td>9</td>\n",
              "    </tr>\n",
              "    <tr>\n",
              "      <th>2</th>\n",
              "      <td>8/27/2022 21:28:18</td>\n",
              "      <td>18.0</td>\n",
              "      <td>Spotify</td>\n",
              "      <td>4.0</td>\n",
              "      <td>No</td>\n",
              "      <td>No</td>\n",
              "      <td>No</td>\n",
              "      <td>Video game music</td>\n",
              "      <td>No</td>\n",
              "      <td>Yes</td>\n",
              "      <td>132.0</td>\n",
              "      <td>1</td>\n",
              "      <td>1</td>\n",
              "      <td>4</td>\n",
              "      <td>1</td>\n",
              "      <td>1</td>\n",
              "      <td>2</td>\n",
              "      <td>2</td>\n",
              "      <td>4</td>\n",
              "      <td>1</td>\n",
              "      <td>3</td>\n",
              "      <td>3</td>\n",
              "      <td>2</td>\n",
              "      <td>1</td>\n",
              "      <td>2</td>\n",
              "      <td>2</td>\n",
              "      <td>4</td>\n",
              "      <td>7.0</td>\n",
              "      <td>7.0</td>\n",
              "      <td>10.0</td>\n",
              "      <td>2.0</td>\n",
              "      <td>No effect</td>\n",
              "      <td>I understand.</td>\n",
              "      <td>3</td>\n",
              "    </tr>\n",
              "    <tr>\n",
              "      <th>3</th>\n",
              "      <td>8/27/2022 21:40:40</td>\n",
              "      <td>61.0</td>\n",
              "      <td>YouTube Music</td>\n",
              "      <td>2.5</td>\n",
              "      <td>Yes</td>\n",
              "      <td>No</td>\n",
              "      <td>Yes</td>\n",
              "      <td>Jazz</td>\n",
              "      <td>Yes</td>\n",
              "      <td>Yes</td>\n",
              "      <td>84.0</td>\n",
              "      <td>3</td>\n",
              "      <td>1</td>\n",
              "      <td>1</td>\n",
              "      <td>2</td>\n",
              "      <td>3</td>\n",
              "      <td>1</td>\n",
              "      <td>4</td>\n",
              "      <td>3</td>\n",
              "      <td>4</td>\n",
              "      <td>3</td>\n",
              "      <td>1</td>\n",
              "      <td>3</td>\n",
              "      <td>3</td>\n",
              "      <td>1</td>\n",
              "      <td>1</td>\n",
              "      <td>1</td>\n",
              "      <td>9.0</td>\n",
              "      <td>7.0</td>\n",
              "      <td>3.0</td>\n",
              "      <td>3.0</td>\n",
              "      <td>Improve</td>\n",
              "      <td>I understand.</td>\n",
              "      <td>10</td>\n",
              "    </tr>\n",
              "    <tr>\n",
              "      <th>4</th>\n",
              "      <td>8/27/2022 21:54:47</td>\n",
              "      <td>18.0</td>\n",
              "      <td>Spotify</td>\n",
              "      <td>4.0</td>\n",
              "      <td>Yes</td>\n",
              "      <td>No</td>\n",
              "      <td>No</td>\n",
              "      <td>R&amp;B</td>\n",
              "      <td>Yes</td>\n",
              "      <td>No</td>\n",
              "      <td>107.0</td>\n",
              "      <td>1</td>\n",
              "      <td>1</td>\n",
              "      <td>2</td>\n",
              "      <td>1</td>\n",
              "      <td>2</td>\n",
              "      <td>4</td>\n",
              "      <td>1</td>\n",
              "      <td>4</td>\n",
              "      <td>3</td>\n",
              "      <td>3</td>\n",
              "      <td>1</td>\n",
              "      <td>3</td>\n",
              "      <td>4</td>\n",
              "      <td>4</td>\n",
              "      <td>1</td>\n",
              "      <td>2</td>\n",
              "      <td>7.0</td>\n",
              "      <td>2.0</td>\n",
              "      <td>5.0</td>\n",
              "      <td>9.0</td>\n",
              "      <td>Improve</td>\n",
              "      <td>I understand.</td>\n",
              "      <td>4</td>\n",
              "    </tr>\n",
              "  </tbody>\n",
              "</table>\n",
              "</div>\n",
              "    <div class=\"colab-df-buttons\">\n",
              "\n",
              "  <div class=\"colab-df-container\">\n",
              "    <button class=\"colab-df-convert\" onclick=\"convertToInteractive('df-85b7fa2a-2b99-4985-af02-fa78513d7431')\"\n",
              "            title=\"Convert this dataframe to an interactive table.\"\n",
              "            style=\"display:none;\">\n",
              "\n",
              "  <svg xmlns=\"http://www.w3.org/2000/svg\" height=\"24px\" viewBox=\"0 -960 960 960\">\n",
              "    <path d=\"M120-120v-720h720v720H120Zm60-500h600v-160H180v160Zm220 220h160v-160H400v160Zm0 220h160v-160H400v160ZM180-400h160v-160H180v160Zm440 0h160v-160H620v160ZM180-180h160v-160H180v160Zm440 0h160v-160H620v160Z\"/>\n",
              "  </svg>\n",
              "    </button>\n",
              "\n",
              "  <style>\n",
              "    .colab-df-container {\n",
              "      display:flex;\n",
              "      gap: 12px;\n",
              "    }\n",
              "\n",
              "    .colab-df-convert {\n",
              "      background-color: #E8F0FE;\n",
              "      border: none;\n",
              "      border-radius: 50%;\n",
              "      cursor: pointer;\n",
              "      display: none;\n",
              "      fill: #1967D2;\n",
              "      height: 32px;\n",
              "      padding: 0 0 0 0;\n",
              "      width: 32px;\n",
              "    }\n",
              "\n",
              "    .colab-df-convert:hover {\n",
              "      background-color: #E2EBFA;\n",
              "      box-shadow: 0px 1px 2px rgba(60, 64, 67, 0.3), 0px 1px 3px 1px rgba(60, 64, 67, 0.15);\n",
              "      fill: #174EA6;\n",
              "    }\n",
              "\n",
              "    .colab-df-buttons div {\n",
              "      margin-bottom: 4px;\n",
              "    }\n",
              "\n",
              "    [theme=dark] .colab-df-convert {\n",
              "      background-color: #3B4455;\n",
              "      fill: #D2E3FC;\n",
              "    }\n",
              "\n",
              "    [theme=dark] .colab-df-convert:hover {\n",
              "      background-color: #434B5C;\n",
              "      box-shadow: 0px 1px 3px 1px rgba(0, 0, 0, 0.15);\n",
              "      filter: drop-shadow(0px 1px 2px rgba(0, 0, 0, 0.3));\n",
              "      fill: #FFFFFF;\n",
              "    }\n",
              "  </style>\n",
              "\n",
              "    <script>\n",
              "      const buttonEl =\n",
              "        document.querySelector('#df-85b7fa2a-2b99-4985-af02-fa78513d7431 button.colab-df-convert');\n",
              "      buttonEl.style.display =\n",
              "        google.colab.kernel.accessAllowed ? 'block' : 'none';\n",
              "\n",
              "      async function convertToInteractive(key) {\n",
              "        const element = document.querySelector('#df-85b7fa2a-2b99-4985-af02-fa78513d7431');\n",
              "        const dataTable =\n",
              "          await google.colab.kernel.invokeFunction('convertToInteractive',\n",
              "                                                    [key], {});\n",
              "        if (!dataTable) return;\n",
              "\n",
              "        const docLinkHtml = 'Like what you see? Visit the ' +\n",
              "          '<a target=\"_blank\" href=https://colab.research.google.com/notebooks/data_table.ipynb>data table notebook</a>'\n",
              "          + ' to learn more about interactive tables.';\n",
              "        element.innerHTML = '';\n",
              "        dataTable['output_type'] = 'display_data';\n",
              "        await google.colab.output.renderOutput(dataTable, element);\n",
              "        const docLink = document.createElement('div');\n",
              "        docLink.innerHTML = docLinkHtml;\n",
              "        element.appendChild(docLink);\n",
              "      }\n",
              "    </script>\n",
              "  </div>\n",
              "\n",
              "\n",
              "<div id=\"df-3cd08e1d-60b8-40d3-8d44-a1fcbeaf634c\">\n",
              "  <button class=\"colab-df-quickchart\" onclick=\"quickchart('df-3cd08e1d-60b8-40d3-8d44-a1fcbeaf634c')\"\n",
              "            title=\"Suggest charts\"\n",
              "            style=\"display:none;\">\n",
              "\n",
              "<svg xmlns=\"http://www.w3.org/2000/svg\" height=\"24px\"viewBox=\"0 0 24 24\"\n",
              "     width=\"24px\">\n",
              "    <g>\n",
              "        <path d=\"M19 3H5c-1.1 0-2 .9-2 2v14c0 1.1.9 2 2 2h14c1.1 0 2-.9 2-2V5c0-1.1-.9-2-2-2zM9 17H7v-7h2v7zm4 0h-2V7h2v10zm4 0h-2v-4h2v4z\"/>\n",
              "    </g>\n",
              "</svg>\n",
              "  </button>\n",
              "\n",
              "<style>\n",
              "  .colab-df-quickchart {\n",
              "      --bg-color: #E8F0FE;\n",
              "      --fill-color: #1967D2;\n",
              "      --hover-bg-color: #E2EBFA;\n",
              "      --hover-fill-color: #174EA6;\n",
              "      --disabled-fill-color: #AAA;\n",
              "      --disabled-bg-color: #DDD;\n",
              "  }\n",
              "\n",
              "  [theme=dark] .colab-df-quickchart {\n",
              "      --bg-color: #3B4455;\n",
              "      --fill-color: #D2E3FC;\n",
              "      --hover-bg-color: #434B5C;\n",
              "      --hover-fill-color: #FFFFFF;\n",
              "      --disabled-bg-color: #3B4455;\n",
              "      --disabled-fill-color: #666;\n",
              "  }\n",
              "\n",
              "  .colab-df-quickchart {\n",
              "    background-color: var(--bg-color);\n",
              "    border: none;\n",
              "    border-radius: 50%;\n",
              "    cursor: pointer;\n",
              "    display: none;\n",
              "    fill: var(--fill-color);\n",
              "    height: 32px;\n",
              "    padding: 0;\n",
              "    width: 32px;\n",
              "  }\n",
              "\n",
              "  .colab-df-quickchart:hover {\n",
              "    background-color: var(--hover-bg-color);\n",
              "    box-shadow: 0 1px 2px rgba(60, 64, 67, 0.3), 0 1px 3px 1px rgba(60, 64, 67, 0.15);\n",
              "    fill: var(--button-hover-fill-color);\n",
              "  }\n",
              "\n",
              "  .colab-df-quickchart-complete:disabled,\n",
              "  .colab-df-quickchart-complete:disabled:hover {\n",
              "    background-color: var(--disabled-bg-color);\n",
              "    fill: var(--disabled-fill-color);\n",
              "    box-shadow: none;\n",
              "  }\n",
              "\n",
              "  .colab-df-spinner {\n",
              "    border: 2px solid var(--fill-color);\n",
              "    border-color: transparent;\n",
              "    border-bottom-color: var(--fill-color);\n",
              "    animation:\n",
              "      spin 1s steps(1) infinite;\n",
              "  }\n",
              "\n",
              "  @keyframes spin {\n",
              "    0% {\n",
              "      border-color: transparent;\n",
              "      border-bottom-color: var(--fill-color);\n",
              "      border-left-color: var(--fill-color);\n",
              "    }\n",
              "    20% {\n",
              "      border-color: transparent;\n",
              "      border-left-color: var(--fill-color);\n",
              "      border-top-color: var(--fill-color);\n",
              "    }\n",
              "    30% {\n",
              "      border-color: transparent;\n",
              "      border-left-color: var(--fill-color);\n",
              "      border-top-color: var(--fill-color);\n",
              "      border-right-color: var(--fill-color);\n",
              "    }\n",
              "    40% {\n",
              "      border-color: transparent;\n",
              "      border-right-color: var(--fill-color);\n",
              "      border-top-color: var(--fill-color);\n",
              "    }\n",
              "    60% {\n",
              "      border-color: transparent;\n",
              "      border-right-color: var(--fill-color);\n",
              "    }\n",
              "    80% {\n",
              "      border-color: transparent;\n",
              "      border-right-color: var(--fill-color);\n",
              "      border-bottom-color: var(--fill-color);\n",
              "    }\n",
              "    90% {\n",
              "      border-color: transparent;\n",
              "      border-bottom-color: var(--fill-color);\n",
              "    }\n",
              "  }\n",
              "</style>\n",
              "\n",
              "  <script>\n",
              "    async function quickchart(key) {\n",
              "      const quickchartButtonEl =\n",
              "        document.querySelector('#' + key + ' button');\n",
              "      quickchartButtonEl.disabled = true;  // To prevent multiple clicks.\n",
              "      quickchartButtonEl.classList.add('colab-df-spinner');\n",
              "      try {\n",
              "        const charts = await google.colab.kernel.invokeFunction(\n",
              "            'suggestCharts', [key], {});\n",
              "      } catch (error) {\n",
              "        console.error('Error during call to suggestCharts:', error);\n",
              "      }\n",
              "      quickchartButtonEl.classList.remove('colab-df-spinner');\n",
              "      quickchartButtonEl.classList.add('colab-df-quickchart-complete');\n",
              "    }\n",
              "    (() => {\n",
              "      let quickchartButtonEl =\n",
              "        document.querySelector('#df-3cd08e1d-60b8-40d3-8d44-a1fcbeaf634c button');\n",
              "      quickchartButtonEl.style.display =\n",
              "        google.colab.kernel.accessAllowed ? 'block' : 'none';\n",
              "    })();\n",
              "  </script>\n",
              "</div>\n",
              "    </div>\n",
              "  </div>\n"
            ],
            "application/vnd.google.colaboratory.intrinsic+json": {
              "type": "dataframe",
              "variable_name": "mxmh"
            }
          },
          "metadata": {},
          "execution_count": 16
        }
      ]
    },
    {
      "cell_type": "markdown",
      "source": [
        "## Looking at the clusters vs. Mental Illness"
      ],
      "metadata": {
        "id": "F-gQi4sV1y1B"
      }
    },
    {
      "cell_type": "code",
      "source": [
        "anxiety_clusters = mxmh.groupby(\"cluster_label\")[\"Anxiety\"].mean()\n",
        "print(anxiety_clusters)"
      ],
      "metadata": {
        "colab": {
          "base_uri": "https://localhost:8080/"
        },
        "id": "uBp1cyPE5h9b",
        "outputId": "babe7286-9589-4264-9ffd-a74e987c649f"
      },
      "execution_count": 17,
      "outputs": [
        {
          "output_type": "stream",
          "name": "stdout",
          "text": [
            "cluster_label\n",
            "0     6.431818\n",
            "1     6.396825\n",
            "2     5.338462\n",
            "3     5.488372\n",
            "4     5.800000\n",
            "5     5.217391\n",
            "6     5.809524\n",
            "7     6.214286\n",
            "8     5.614583\n",
            "9     5.447368\n",
            "10    5.437500\n",
            "11    5.950000\n",
            "12    6.142857\n",
            "13    6.460000\n",
            "14    5.549020\n",
            "Name: Anxiety, dtype: float64\n"
          ]
        }
      ]
    },
    {
      "cell_type": "code",
      "source": [
        "#swarm plot\n",
        "sns.swarmplot(x='cluster_label', y='Anxiety', data=mxmh, palette = ['mediumvioletred'], size = 1.4)\n",
        "\n",
        "# Add labels and title\n",
        "plt.xlabel('Clusters')\n",
        "plt.ylabel('Anxiety Ranking')\n",
        "plt.title('Clusters and Anxiety')\n",
        "\n",
        "# Show the plot\n",
        "plt.show()"
      ],
      "metadata": {
        "colab": {
          "base_uri": "https://localhost:8080/",
          "height": 635
        },
        "id": "fx7jHm2R7UQ8",
        "outputId": "b697fc4e-3c49-40b2-f502-1dcabd9cf969"
      },
      "execution_count": 18,
      "outputs": [
        {
          "output_type": "stream",
          "name": "stderr",
          "text": [
            "<ipython-input-18-d17868cc7dd6>:2: FutureWarning: \n",
            "\n",
            "Passing `palette` without assigning `hue` is deprecated and will be removed in v0.14.0. Assign the `x` variable to `hue` and set `legend=False` for the same effect.\n",
            "\n",
            "  sns.swarmplot(x='cluster_label', y='Anxiety', data=mxmh, palette = ['mediumvioletred'], size = 1.4)\n",
            "<ipython-input-18-d17868cc7dd6>:2: UserWarning: \n",
            "The palette list has fewer values (1) than needed (15) and will cycle, which may produce an uninterpretable plot.\n",
            "  sns.swarmplot(x='cluster_label', y='Anxiety', data=mxmh, palette = ['mediumvioletred'], size = 1.4)\n"
          ]
        },
        {
          "output_type": "display_data",
          "data": {
            "text/plain": [
              "<Figure size 640x480 with 1 Axes>"
            ],
            "image/png": "[encoded data removed]"
          },
          "metadata": {}
        }
      ]
    },
    {
      "cell_type": "code",
      "source": [
        "#bar plot version of same info\n",
        "sns.barplot(x=anxiety_clusters.index, y='Anxiety', data=anxiety_clusters.reset_index(), palette = ['mediumvioletred'])\n",
        "plt.xlabel('Cluster')\n",
        "plt.ylabel('Average Level of Anxiety')\n",
        "plt.title('Clusters vs the Average Levels of Anxiety Experienced by the Cluster Group')\n",
        "plt.show()"
      ],
      "metadata": {
        "colab": {
          "base_uri": "https://localhost:8080/",
          "height": 635
        },
        "id": "npR3HPpSApeo",
        "outputId": "92c7b76f-e553-486d-d035-4e69c589057e"
      },
      "execution_count": 19,
      "outputs": [
        {
          "output_type": "stream",
          "name": "stderr",
          "text": [
            "<ipython-input-19-30bf98851764>:2: FutureWarning: \n",
            "\n",
            "Passing `palette` without assigning `hue` is deprecated and will be removed in v0.14.0. Assign the `x` variable to `hue` and set `legend=False` for the same effect.\n",
            "\n",
            "  sns.barplot(x=anxiety_clusters.index, y='Anxiety', data=anxiety_clusters.reset_index(), palette = ['mediumvioletred'])\n",
            "<ipython-input-19-30bf98851764>:2: UserWarning: \n",
            "The palette list has fewer values (1) than needed (15) and will cycle, which may produce an uninterpretable plot.\n",
            "  sns.barplot(x=anxiety_clusters.index, y='Anxiety', data=anxiety_clusters.reset_index(), palette = ['mediumvioletred'])\n"
          ]
        },
        {
          "output_type": "display_data",
          "data": {
            "text/plain": [
              "<Figure size 640x480 with 1 Axes>"
            ],
            "image/png": "[encoded data removed]"
          },
          "metadata": {}
        }
      ]
    },
    {
      "cell_type": "code",
      "source": [
        "depression_clusters = mxmh.groupby(\"cluster_label\")[\"Depression\"].mean()\n",
        "print(depression_clusters)"
      ],
      "metadata": {
        "colab": {
          "base_uri": "https://localhost:8080/"
        },
        "id": "_cRz6mzY6MPH",
        "outputId": "70f4cbca-3f6a-463f-cba0-8347f5612def"
      },
      "execution_count": 20,
      "outputs": [
        {
          "output_type": "stream",
          "name": "stdout",
          "text": [
            "cluster_label\n",
            "0     6.000000\n",
            "1     5.984127\n",
            "2     4.523077\n",
            "3     4.697674\n",
            "4     3.514286\n",
            "5     4.673913\n",
            "6     4.468254\n",
            "7     5.238095\n",
            "8     4.687500\n",
            "9     4.263158\n",
            "10    4.031250\n",
            "11    4.583333\n",
            "12    5.723214\n",
            "13    5.440000\n",
            "14    3.333333\n",
            "Name: Depression, dtype: float64\n"
          ]
        }
      ]
    },
    {
      "cell_type": "code",
      "source": [
        "#swarm plot\n",
        "sns.swarmplot(x='cluster_label', y='Depression', data=mxmh, palette = ['mediumblue'], size = 1.4)\n",
        "\n",
        "# Add labels and title\n",
        "plt.xlabel('Clusters')\n",
        "plt.ylabel('Depression Ranking')\n",
        "plt.title('Clusters and Depression')\n",
        "\n",
        "# Show the plot\n",
        "plt.show()"
      ],
      "metadata": {
        "colab": {
          "base_uri": "https://localhost:8080/",
          "height": 635
        },
        "id": "5gNaDCJg7xSM",
        "outputId": "9c6f92c4-7ac3-49d5-f0fd-b315eb9cead8"
      },
      "execution_count": 21,
      "outputs": [
        {
          "output_type": "stream",
          "name": "stderr",
          "text": [
            "<ipython-input-21-bdbc090a79eb>:2: FutureWarning: \n",
            "\n",
            "Passing `palette` without assigning `hue` is deprecated and will be removed in v0.14.0. Assign the `x` variable to `hue` and set `legend=False` for the same effect.\n",
            "\n",
            "  sns.swarmplot(x='cluster_label', y='Depression', data=mxmh, palette = ['mediumblue'], size = 1.4)\n",
            "<ipython-input-21-bdbc090a79eb>:2: UserWarning: \n",
            "The palette list has fewer values (1) than needed (15) and will cycle, which may produce an uninterpretable plot.\n",
            "  sns.swarmplot(x='cluster_label', y='Depression', data=mxmh, palette = ['mediumblue'], size = 1.4)\n"
          ]
        },
        {
          "output_type": "display_data",
          "data": {
            "text/plain": [
              "<Figure size 640x480 with 1 Axes>"
            ],
            "image/png": "[encoded data removed]"
          },
          "metadata": {}
        }
      ]
    },
    {
      "cell_type": "code",
      "source": [
        "#bar plot version of same info\n",
        "sns.barplot(x=depression_clusters.index, y='Depression', data=depression_clusters.reset_index(), palette = ['mediumblue'])\n",
        "plt.xlabel('Cluster')\n",
        "plt.ylabel('Average Level of Depression')\n",
        "plt.title('Clusters vs the Average Levels of Depression Experienced by the Cluster Group')\n",
        "plt.show()"
      ],
      "metadata": {
        "colab": {
          "base_uri": "https://localhost:8080/",
          "height": 635
        },
        "id": "0LBLY7HnCF0P",
        "outputId": "ec84de69-d4ac-40e5-f9c8-a71e28d51d8a"
      },
      "execution_count": 22,
      "outputs": [
        {
          "output_type": "stream",
          "name": "stderr",
          "text": [
            "<ipython-input-22-c0eef2eb9de1>:2: FutureWarning: \n",
            "\n",
            "Passing `palette` without assigning `hue` is deprecated and will be removed in v0.14.0. Assign the `x` variable to `hue` and set `legend=False` for the same effect.\n",
            "\n",
            "  sns.barplot(x=depression_clusters.index, y='Depression', data=depression_clusters.reset_index(), palette = ['mediumblue'])\n",
            "<ipython-input-22-c0eef2eb9de1>:2: UserWarning: \n",
            "The palette list has fewer values (1) than needed (15) and will cycle, which may produce an uninterpretable plot.\n",
            "  sns.barplot(x=depression_clusters.index, y='Depression', data=depression_clusters.reset_index(), palette = ['mediumblue'])\n"
          ]
        },
        {
          "output_type": "display_data",
          "data": {
            "text/plain": [
              "<Figure size 640x480 with 1 Axes>"
            ],
            "image/png": "[encoded data removed]"
          },
          "metadata": {}
        }
      ]
    },
    {
      "cell_type": "code",
      "source": [
        "insomnia_clusters = mxmh.groupby(\"cluster_label\")[\"Insomnia\"].mean()\n",
        "print(insomnia_clusters)"
      ],
      "metadata": {
        "colab": {
          "base_uri": "https://localhost:8080/"
        },
        "id": "2-K1RWKY6L55",
        "outputId": "d6758b57-c660-411b-d68c-3e6b0c553827"
      },
      "execution_count": 23,
      "outputs": [
        {
          "output_type": "stream",
          "name": "stdout",
          "text": [
            "cluster_label\n",
            "0     4.863636\n",
            "1     4.269841\n",
            "2     3.784615\n",
            "3     3.976744\n",
            "4     3.400000\n",
            "5     2.586957\n",
            "6     3.301587\n",
            "7     4.119048\n",
            "8     3.854167\n",
            "9     3.078947\n",
            "10    2.593750\n",
            "11    3.466667\n",
            "12    4.330357\n",
            "13    4.460000\n",
            "14    3.411765\n",
            "Name: Insomnia, dtype: float64\n"
          ]
        }
      ]
    },
    {
      "cell_type": "code",
      "source": [
        "#swarm plot\n",
        "sns.swarmplot(x='cluster_label', y='Insomnia', data=mxmh, palette = ['royalblue'], size = 1.4)\n",
        "\n",
        "# Add labels and title\n",
        "plt.xlabel('Clusters')\n",
        "plt.ylabel('Insomnia Ranking')\n",
        "plt.title('Clusters and Insomnia')\n",
        "\n",
        "# Show the plot\n",
        "plt.show()"
      ],
      "metadata": {
        "colab": {
          "base_uri": "https://localhost:8080/",
          "height": 635
        },
        "id": "jS6n_qVg8YgD",
        "outputId": "164ecaa5-707c-41aa-8b34-8acbb98bcac3"
      },
      "execution_count": 24,
      "outputs": [
        {
          "output_type": "stream",
          "name": "stderr",
          "text": [
            "<ipython-input-24-3dcec90d144d>:2: FutureWarning: \n",
            "\n",
            "Passing `palette` without assigning `hue` is deprecated and will be removed in v0.14.0. Assign the `x` variable to `hue` and set `legend=False` for the same effect.\n",
            "\n",
            "  sns.swarmplot(x='cluster_label', y='Insomnia', data=mxmh, palette = ['royalblue'], size = 1.4)\n",
            "<ipython-input-24-3dcec90d144d>:2: UserWarning: \n",
            "The palette list has fewer values (1) than needed (15) and will cycle, which may produce an uninterpretable plot.\n",
            "  sns.swarmplot(x='cluster_label', y='Insomnia', data=mxmh, palette = ['royalblue'], size = 1.4)\n"
          ]
        },
        {
          "output_type": "display_data",
          "data": {
            "text/plain": [
              "<Figure size 640x480 with 1 Axes>"
            ],
            "image/png": "[encoded data removed]"
          },
          "metadata": {}
        }
      ]
    },
    {
      "cell_type": "code",
      "source": [
        "#bar plot version of same info\n",
        "sns.barplot(x=insomnia_clusters.index, y='Insomnia', data=insomnia_clusters.reset_index(), palette = ['royalblue'])\n",
        "plt.xlabel('Cluster')\n",
        "plt.ylabel('Average Level of Insomnia')\n",
        "plt.title('Clusters vs the Average Levels of Insomnia Experienced by the Cluster Group')\n",
        "plt.show()"
      ],
      "metadata": {
        "colab": {
          "base_uri": "https://localhost:8080/",
          "height": 635
        },
        "id": "K-IK94j8CmQu",
        "outputId": "0bfe691d-e655-4e2b-96fe-8c821d36c6d9"
      },
      "execution_count": 25,
      "outputs": [
        {
          "output_type": "stream",
          "name": "stderr",
          "text": [
            "<ipython-input-25-feef5ed2c764>:2: FutureWarning: \n",
            "\n",
            "Passing `palette` without assigning `hue` is deprecated and will be removed in v0.14.0. Assign the `x` variable to `hue` and set `legend=False` for the same effect.\n",
            "\n",
            "  sns.barplot(x=insomnia_clusters.index, y='Insomnia', data=insomnia_clusters.reset_index(), palette = ['royalblue'])\n",
            "<ipython-input-25-feef5ed2c764>:2: UserWarning: \n",
            "The palette list has fewer values (1) than needed (15) and will cycle, which may produce an uninterpretable plot.\n",
            "  sns.barplot(x=insomnia_clusters.index, y='Insomnia', data=insomnia_clusters.reset_index(), palette = ['royalblue'])\n"
          ]
        },
        {
          "output_type": "display_data",
          "data": {
            "text/plain": [
              "<Figure size 640x480 with 1 Axes>"
            ],
            "image/png": "[encoded data removed]"
          },
          "metadata": {}
        }
      ]
    },
    {
      "cell_type": "code",
      "source": [
        "ocd_clusters = mxmh.groupby(\"cluster_label\")[\"OCD\"].mean()\n",
        "print(ocd_clusters)"
      ],
      "metadata": {
        "colab": {
          "base_uri": "https://localhost:8080/"
        },
        "id": "aC-bE-tO6Lb_",
        "outputId": "f6837334-3e63-40ed-a778-e4318d62c048"
      },
      "execution_count": 26,
      "outputs": [
        {
          "output_type": "stream",
          "name": "stdout",
          "text": [
            "cluster_label\n",
            "0     2.454545\n",
            "1     3.190476\n",
            "2     2.384615\n",
            "3     2.813953\n",
            "4     3.142857\n",
            "5     2.304348\n",
            "6     2.873016\n",
            "7     2.428571\n",
            "8     2.718750\n",
            "9     1.631579\n",
            "10    2.093750\n",
            "11    2.766667\n",
            "12    2.830357\n",
            "13    2.980000\n",
            "14    2.431373\n",
            "Name: OCD, dtype: float64\n"
          ]
        }
      ]
    },
    {
      "cell_type": "code",
      "source": [
        "#swarm plot\n",
        "sns.swarmplot(x='cluster_label', y='OCD', data=mxmh, palette = ['darkmagenta'], size = 1.6)\n",
        "\n",
        "# Add labels and title\n",
        "plt.xlabel('Clusters')\n",
        "plt.ylabel('OCD Ranking')\n",
        "plt.title('Clusters and OCD')\n",
        "\n",
        "# Show the plot\n",
        "plt.show()"
      ],
      "metadata": {
        "colab": {
          "base_uri": "https://localhost:8080/",
          "height": 1000
        },
        "id": "Uny0xvgj8kiK",
        "outputId": "28a229de-f735-4542-b324-25ff6209ff4d"
      },
      "execution_count": 27,
      "outputs": [
        {
          "output_type": "stream",
          "name": "stderr",
          "text": [
            "<ipython-input-27-407e5a9a8241>:2: FutureWarning: \n",
            "\n",
            "Passing `palette` without assigning `hue` is deprecated and will be removed in v0.14.0. Assign the `x` variable to `hue` and set `legend=False` for the same effect.\n",
            "\n",
            "  sns.swarmplot(x='cluster_label', y='OCD', data=mxmh, palette = ['darkmagenta'], size = 1.6)\n",
            "<ipython-input-27-407e5a9a8241>:2: UserWarning: \n",
            "The palette list has fewer values (1) than needed (15) and will cycle, which may produce an uninterpretable plot.\n",
            "  sns.swarmplot(x='cluster_label', y='OCD', data=mxmh, palette = ['darkmagenta'], size = 1.6)\n",
            "/usr/local/lib/python3.10/dist-packages/seaborn/categorical.py:3398: UserWarning: 7.9% of the points cannot be placed; you may want to decrease the size of the markers or use stripplot.\n",
            "  warnings.warn(msg, UserWarning)\n",
            "/usr/local/lib/python3.10/dist-packages/seaborn/categorical.py:3398: UserWarning: 23.1% of the points cannot be placed; you may want to decrease the size of the markers or use stripplot.\n",
            "  warnings.warn(msg, UserWarning)\n",
            "/usr/local/lib/python3.10/dist-packages/seaborn/categorical.py:3398: UserWarning: 11.6% of the points cannot be placed; you may want to decrease the size of the markers or use stripplot.\n",
            "  warnings.warn(msg, UserWarning)\n",
            "/usr/local/lib/python3.10/dist-packages/seaborn/categorical.py:3398: UserWarning: 6.5% of the points cannot be placed; you may want to decrease the size of the markers or use stripplot.\n",
            "  warnings.warn(msg, UserWarning)\n",
            "/usr/local/lib/python3.10/dist-packages/seaborn/categorical.py:3398: UserWarning: 14.3% of the points cannot be placed; you may want to decrease the size of the markers or use stripplot.\n",
            "  warnings.warn(msg, UserWarning)\n",
            "/usr/local/lib/python3.10/dist-packages/seaborn/categorical.py:3398: UserWarning: 11.9% of the points cannot be placed; you may want to decrease the size of the markers or use stripplot.\n",
            "  warnings.warn(msg, UserWarning)\n",
            "/usr/local/lib/python3.10/dist-packages/seaborn/categorical.py:3398: UserWarning: 10.4% of the points cannot be placed; you may want to decrease the size of the markers or use stripplot.\n",
            "  warnings.warn(msg, UserWarning)\n",
            "/usr/local/lib/python3.10/dist-packages/seaborn/categorical.py:3398: UserWarning: 11.7% of the points cannot be placed; you may want to decrease the size of the markers or use stripplot.\n",
            "  warnings.warn(msg, UserWarning)\n",
            "/usr/local/lib/python3.10/dist-packages/seaborn/categorical.py:3398: UserWarning: 16.1% of the points cannot be placed; you may want to decrease the size of the markers or use stripplot.\n",
            "  warnings.warn(msg, UserWarning)\n",
            "/usr/local/lib/python3.10/dist-packages/seaborn/categorical.py:3398: UserWarning: 14.0% of the points cannot be placed; you may want to decrease the size of the markers or use stripplot.\n",
            "  warnings.warn(msg, UserWarning)\n",
            "/usr/local/lib/python3.10/dist-packages/seaborn/categorical.py:3398: UserWarning: 13.7% of the points cannot be placed; you may want to decrease the size of the markers or use stripplot.\n",
            "  warnings.warn(msg, UserWarning)\n"
          ]
        },
        {
          "output_type": "display_data",
          "data": {
            "text/plain": [
              "<Figure size 640x480 with 1 Axes>"
            ],
            "image/png": "[encoded data removed]"
          },
          "metadata": {}
        }
      ]
    },
    {
      "cell_type": "code",
      "source": [
        "#bar plot version of same info\n",
        "sns.barplot(x=ocd_clusters.index, y='OCD', data=ocd_clusters.reset_index(), palette = ['darkmagenta'])\n",
        "plt.xlabel('Cluster')\n",
        "plt.ylabel('Average Level of OCD')\n",
        "plt.title('Clusters vs the Average Levels of OCD Experienced by the Cluster Group')\n",
        "plt.show()"
      ],
      "metadata": {
        "colab": {
          "base_uri": "https://localhost:8080/",
          "height": 635
        },
        "id": "wXjM4maeC15G",
        "outputId": "d325c7a9-0d8b-4bf3-ef81-2a81c8924491"
      },
      "execution_count": 28,
      "outputs": [
        {
          "output_type": "stream",
          "name": "stderr",
          "text": [
            "<ipython-input-28-c31a093877da>:2: FutureWarning: \n",
            "\n",
            "Passing `palette` without assigning `hue` is deprecated and will be removed in v0.14.0. Assign the `x` variable to `hue` and set `legend=False` for the same effect.\n",
            "\n",
            "  sns.barplot(x=ocd_clusters.index, y='OCD', data=ocd_clusters.reset_index(), palette = ['darkmagenta'])\n",
            "<ipython-input-28-c31a093877da>:2: UserWarning: \n",
            "The palette list has fewer values (1) than needed (15) and will cycle, which may produce an uninterpretable plot.\n",
            "  sns.barplot(x=ocd_clusters.index, y='OCD', data=ocd_clusters.reset_index(), palette = ['darkmagenta'])\n"
          ]
        },
        {
          "output_type": "display_data",
          "data": {
            "text/plain": [
              "<Figure size 640x480 with 1 Axes>"
            ],
            "image/png": "[encoded data removed]"
          },
          "metadata": {}
        }
      ]
    },
    {
      "cell_type": "markdown",
      "source": [
        "## Based on the Average Scores, look at the clusters for each illness. Picking the the top 3 clusters based on average ranking"
      ],
      "metadata": {
        "id": "GmzaEOv_EHKw"
      }
    },
    {
      "cell_type": "code",
      "source": [
        "mxmh.head()"
      ],
      "metadata": {
        "colab": {
          "base_uri": "https://localhost:8080/",
          "height": 382
        },
        "id": "kmX5dzJhERAE",
        "outputId": "fa646dba-10cf-4673-94cc-36f0d8ebfcf5"
      },
      "execution_count": null,
      "outputs": [
        {
          "output_type": "execute_result",
          "data": {
            "text/plain": [
              "            Timestamp   Age Primary streaming service  Hours per day  \\\n",
              "0  8/27/2022 19:29:02  18.0                   Spotify            3.0   \n",
              "1  8/27/2022 19:57:31  63.0                   Pandora            1.5   \n",
              "2  8/27/2022 21:28:18  18.0                   Spotify            4.0   \n",
              "3  8/27/2022 21:40:40  61.0             YouTube Music            2.5   \n",
              "4  8/27/2022 21:54:47  18.0                   Spotify            4.0   \n",
              "\n",
              "  While working Instrumentalist Composer         Fav genre Exploratory  \\\n",
              "0           Yes             Yes      Yes             Latin         Yes   \n",
              "1           Yes              No       No              Rock         Yes   \n",
              "2            No              No       No  Video game music          No   \n",
              "3           Yes              No      Yes              Jazz         Yes   \n",
              "4           Yes              No       No               R&B         Yes   \n",
              "\n",
              "  Foreign languages    BPM  Frequency [Classical]  Frequency [Country]  \\\n",
              "0               Yes  156.0                      2                    1   \n",
              "1                No  119.0                      3                    1   \n",
              "2               Yes  132.0                      1                    1   \n",
              "3               Yes   84.0                      3                    1   \n",
              "4                No  107.0                      1                    1   \n",
              "\n",
              "   Frequency [EDM]  Frequency [Folk]  Frequency [Gospel]  Frequency [Hip hop]  \\\n",
              "0                2                 1                   1                    3   \n",
              "1                1                 2                   3                    2   \n",
              "2                4                 1                   1                    2   \n",
              "3                1                 2                   3                    1   \n",
              "4                2                 1                   2                    4   \n",
              "\n",
              "   Frequency [Jazz]  Frequency [K pop]  Frequency [Latin]  Frequency [Lofi]  \\\n",
              "0                 1                  4                  4                 2   \n",
              "1                 4                  2                  3                 2   \n",
              "2                 2                  4                  1                 3   \n",
              "3                 4                  3                  4                 3   \n",
              "4                 1                  4                  3                 3   \n",
              "\n",
              "   Frequency [Metal]  Frequency [Pop]  Frequency [R&B]  Frequency [Rap]  \\\n",
              "0                  1                4                3                4   \n",
              "1                  1                3                3                2   \n",
              "2                  3                2                1                2   \n",
              "3                  1                3                3                1   \n",
              "4                  1                3                4                4   \n",
              "\n",
              "   Frequency [Rock]  Frequency [Video game music]  Anxiety  Depression  \\\n",
              "0                 1                             3      3.0         0.0   \n",
              "1                 4                             2      7.0         2.0   \n",
              "2                 2                             4      7.0         7.0   \n",
              "3                 1                             1      9.0         7.0   \n",
              "4                 1                             2      7.0         2.0   \n",
              "\n",
              "   Insomnia  OCD Music effects    Permissions  cluster_label  \n",
              "0       1.0  0.0           NaN  I understand.              4  \n",
              "1       2.0  1.0           NaN  I understand.              9  \n",
              "2      10.0  2.0     No effect  I understand.              3  \n",
              "3       3.0  3.0       Improve  I understand.             10  \n",
              "4       5.0  9.0       Improve  I understand.              4  "
            ],
            "text/html": [
              "\n",
              "  <div id=\"df-a990c7b0-846f-4a33-8fbb-046f692e63f9\" class=\"colab-df-container\">\n",
              "    <div>\n",
              "<style scoped>\n",
              "    .dataframe tbody tr th:only-of-type {\n",
              "        vertical-align: middle;\n",
              "    }\n",
              "\n",
              "    .dataframe tbody tr th {\n",
              "        vertical-align: top;\n",
              "    }\n",
              "\n",
              "    .dataframe thead th {\n",
              "        text-align: right;\n",
              "    }\n",
              "</style>\n",
              "<table border=\"1\" class=\"dataframe\">\n",
              "  <thead>\n",
              "    <tr style=\"text-align: right;\">\n",
              "      <th></th>\n",
              "      <th>Timestamp</th>\n",
              "      <th>Age</th>\n",
              "      <th>Primary streaming service</th>\n",
              "      <th>Hours per day</th>\n",
              "      <th>While working</th>\n",
              "      <th>Instrumentalist</th>\n",
              "      <th>Composer</th>\n",
              "      <th>Fav genre</th>\n",
              "      <th>Exploratory</th>\n",
              "      <th>Foreign languages</th>\n",
              "      <th>BPM</th>\n",
              "      <th>Frequency [Classical]</th>\n",
              "      <th>Frequency [Country]</th>\n",
              "      <th>Frequency [EDM]</th>\n",
              "      <th>Frequency [Folk]</th>\n",
              "      <th>Frequency [Gospel]</th>\n",
              "      <th>Frequency [Hip hop]</th>\n",
              "      <th>Frequency [Jazz]</th>\n",
              "      <th>Frequency [K pop]</th>\n",
              "      <th>Frequency [Latin]</th>\n",
              "      <th>Frequency [Lofi]</th>\n",
              "      <th>Frequency [Metal]</th>\n",
              "      <th>Frequency [Pop]</th>\n",
              "      <th>Frequency [R&amp;B]</th>\n",
              "      <th>Frequency [Rap]</th>\n",
              "      <th>Frequency [Rock]</th>\n",
              "      <th>Frequency [Video game music]</th>\n",
              "      <th>Anxiety</th>\n",
              "      <th>Depression</th>\n",
              "      <th>Insomnia</th>\n",
              "      <th>OCD</th>\n",
              "      <th>Music effects</th>\n",
              "      <th>Permissions</th>\n",
              "      <th>cluster_label</th>\n",
              "    </tr>\n",
              "  </thead>\n",
              "  <tbody>\n",
              "    <tr>\n",
              "      <th>0</th>\n",
              "      <td>8/27/2022 19:29:02</td>\n",
              "      <td>18.0</td>\n",
              "      <td>Spotify</td>\n",
              "      <td>3.0</td>\n",
              "      <td>Yes</td>\n",
              "      <td>Yes</td>\n",
              "      <td>Yes</td>\n",
              "      <td>Latin</td>\n",
              "      <td>Yes</td>\n",
              "      <td>Yes</td>\n",
              "      <td>156.0</td>\n",
              "      <td>2</td>\n",
              "      <td>1</td>\n",
              "      <td>2</td>\n",
              "      <td>1</td>\n",
              "      <td>1</td>\n",
              "      <td>3</td>\n",
              "      <td>1</td>\n",
              "      <td>4</td>\n",
              "      <td>4</td>\n",
              "      <td>2</td>\n",
              "      <td>1</td>\n",
              "      <td>4</td>\n",
              "      <td>3</td>\n",
              "      <td>4</td>\n",
              "      <td>1</td>\n",
              "      <td>3</td>\n",
              "      <td>3.0</td>\n",
              "      <td>0.0</td>\n",
              "      <td>1.0</td>\n",
              "      <td>0.0</td>\n",
              "      <td>NaN</td>\n",
              "      <td>I understand.</td>\n",
              "      <td>4</td>\n",
              "    </tr>\n",
              "    <tr>\n",
              "      <th>1</th>\n",
              "      <td>8/27/2022 19:57:31</td>\n",
              "      <td>63.0</td>\n",
              "      <td>Pandora</td>\n",
              "      <td>1.5</td>\n",
              "      <td>Yes</td>\n",
              "      <td>No</td>\n",
              "      <td>No</td>\n",
              "      <td>Rock</td>\n",
              "      <td>Yes</td>\n",
              "      <td>No</td>\n",
              "      <td>119.0</td>\n",
              "      <td>3</td>\n",
              "      <td>1</td>\n",
              "      <td>1</td>\n",
              "      <td>2</td>\n",
              "      <td>3</td>\n",
              "      <td>2</td>\n",
              "      <td>4</td>\n",
              "      <td>2</td>\n",
              "      <td>3</td>\n",
              "      <td>2</td>\n",
              "      <td>1</td>\n",
              "      <td>3</td>\n",
              "      <td>3</td>\n",
              "      <td>2</td>\n",
              "      <td>4</td>\n",
              "      <td>2</td>\n",
              "      <td>7.0</td>\n",
              "      <td>2.0</td>\n",
              "      <td>2.0</td>\n",
              "      <td>1.0</td>\n",
              "      <td>NaN</td>\n",
              "      <td>I understand.</td>\n",
              "      <td>9</td>\n",
              "    </tr>\n",
              "    <tr>\n",
              "      <th>2</th>\n",
              "      <td>8/27/2022 21:28:18</td>\n",
              "      <td>18.0</td>\n",
              "      <td>Spotify</td>\n",
              "      <td>4.0</td>\n",
              "      <td>No</td>\n",
              "      <td>No</td>\n",
              "      <td>No</td>\n",
              "      <td>Video game music</td>\n",
              "      <td>No</td>\n",
              "      <td>Yes</td>\n",
              "      <td>132.0</td>\n",
              "      <td>1</td>\n",
              "      <td>1</td>\n",
              "      <td>4</td>\n",
              "      <td>1</td>\n",
              "      <td>1</td>\n",
              "      <td>2</td>\n",
              "      <td>2</td>\n",
              "      <td>4</td>\n",
              "      <td>1</td>\n",
              "      <td>3</td>\n",
              "      <td>3</td>\n",
              "      <td>2</td>\n",
              "      <td>1</td>\n",
              "      <td>2</td>\n",
              "      <td>2</td>\n",
              "      <td>4</td>\n",
              "      <td>7.0</td>\n",
              "      <td>7.0</td>\n",
              "      <td>10.0</td>\n",
              "      <td>2.0</td>\n",
              "      <td>No effect</td>\n",
              "      <td>I understand.</td>\n",
              "      <td>3</td>\n",
              "    </tr>\n",
              "    <tr>\n",
              "      <th>3</th>\n",
              "      <td>8/27/2022 21:40:40</td>\n",
              "      <td>61.0</td>\n",
              "      <td>YouTube Music</td>\n",
              "      <td>2.5</td>\n",
              "      <td>Yes</td>\n",
              "      <td>No</td>\n",
              "      <td>Yes</td>\n",
              "      <td>Jazz</td>\n",
              "      <td>Yes</td>\n",
              "      <td>Yes</td>\n",
              "      <td>84.0</td>\n",
              "      <td>3</td>\n",
              "      <td>1</td>\n",
              "      <td>1</td>\n",
              "      <td>2</td>\n",
              "      <td>3</td>\n",
              "      <td>1</td>\n",
              "      <td>4</td>\n",
              "      <td>3</td>\n",
              "      <td>4</td>\n",
              "      <td>3</td>\n",
              "      <td>1</td>\n",
              "      <td>3</td>\n",
              "      <td>3</td>\n",
              "      <td>1</td>\n",
              "      <td>1</td>\n",
              "      <td>1</td>\n",
              "      <td>9.0</td>\n",
              "      <td>7.0</td>\n",
              "      <td>3.0</td>\n",
              "      <td>3.0</td>\n",
              "      <td>Improve</td>\n",
              "      <td>I understand.</td>\n",
              "      <td>10</td>\n",
              "    </tr>\n",
              "    <tr>\n",
              "      <th>4</th>\n",
              "      <td>8/27/2022 21:54:47</td>\n",
              "      <td>18.0</td>\n",
              "      <td>Spotify</td>\n",
              "      <td>4.0</td>\n",
              "      <td>Yes</td>\n",
              "      <td>No</td>\n",
              "      <td>No</td>\n",
              "      <td>R&amp;B</td>\n",
              "      <td>Yes</td>\n",
              "      <td>No</td>\n",
              "      <td>107.0</td>\n",
              "      <td>1</td>\n",
              "      <td>1</td>\n",
              "      <td>2</td>\n",
              "      <td>1</td>\n",
              "      <td>2</td>\n",
              "      <td>4</td>\n",
              "      <td>1</td>\n",
              "      <td>4</td>\n",
              "      <td>3</td>\n",
              "      <td>3</td>\n",
              "      <td>1</td>\n",
              "      <td>3</td>\n",
              "      <td>4</td>\n",
              "      <td>4</td>\n",
              "      <td>1</td>\n",
              "      <td>2</td>\n",
              "      <td>7.0</td>\n",
              "      <td>2.0</td>\n",
              "      <td>5.0</td>\n",
              "      <td>9.0</td>\n",
              "      <td>Improve</td>\n",
              "      <td>I understand.</td>\n",
              "      <td>4</td>\n",
              "    </tr>\n",
              "  </tbody>\n",
              "</table>\n",
              "</div>\n",
              "    <div class=\"colab-df-buttons\">\n",
              "\n",
              "  <div class=\"colab-df-container\">\n",
              "    <button class=\"colab-df-convert\" onclick=\"convertToInteractive('df-a990c7b0-846f-4a33-8fbb-046f692e63f9')\"\n",
              "            title=\"Convert this dataframe to an interactive table.\"\n",
              "            style=\"display:none;\">\n",
              "\n",
              "  <svg xmlns=\"http://www.w3.org/2000/svg\" height=\"24px\" viewBox=\"0 -960 960 960\">\n",
              "    <path d=\"M120-120v-720h720v720H120Zm60-500h600v-160H180v160Zm220 220h160v-160H400v160Zm0 220h160v-160H400v160ZM180-400h160v-160H180v160Zm440 0h160v-160H620v160ZM180-180h160v-160H180v160Zm440 0h160v-160H620v160Z\"/>\n",
              "  </svg>\n",
              "    </button>\n",
              "\n",
              "  <style>\n",
              "    .colab-df-container {\n",
              "      display:flex;\n",
              "      gap: 12px;\n",
              "    }\n",
              "\n",
              "    .colab-df-convert {\n",
              "      background-color: #E8F0FE;\n",
              "      border: none;\n",
              "      border-radius: 50%;\n",
              "      cursor: pointer;\n",
              "      display: none;\n",
              "      fill: #1967D2;\n",
              "      height: 32px;\n",
              "      padding: 0 0 0 0;\n",
              "      width: 32px;\n",
              "    }\n",
              "\n",
              "    .colab-df-convert:hover {\n",
              "      background-color: #E2EBFA;\n",
              "      box-shadow: 0px 1px 2px rgba(60, 64, 67, 0.3), 0px 1px 3px 1px rgba(60, 64, 67, 0.15);\n",
              "      fill: #174EA6;\n",
              "    }\n",
              "\n",
              "    .colab-df-buttons div {\n",
              "      margin-bottom: 4px;\n",
              "    }\n",
              "\n",
              "    [theme=dark] .colab-df-convert {\n",
              "      background-color: #3B4455;\n",
              "      fill: #D2E3FC;\n",
              "    }\n",
              "\n",
              "    [theme=dark] .colab-df-convert:hover {\n",
              "      background-color: #434B5C;\n",
              "      box-shadow: 0px 1px 3px 1px rgba(0, 0, 0, 0.15);\n",
              "      filter: drop-shadow(0px 1px 2px rgba(0, 0, 0, 0.3));\n",
              "      fill: #FFFFFF;\n",
              "    }\n",
              "  </style>\n",
              "\n",
              "    <script>\n",
              "      const buttonEl =\n",
              "        document.querySelector('#df-a990c7b0-846f-4a33-8fbb-046f692e63f9 button.colab-df-convert');\n",
              "      buttonEl.style.display =\n",
              "        google.colab.kernel.accessAllowed ? 'block' : 'none';\n",
              "\n",
              "      async function convertToInteractive(key) {\n",
              "        const element = document.querySelector('#df-a990c7b0-846f-4a33-8fbb-046f692e63f9');\n",
              "        const dataTable =\n",
              "          await google.colab.kernel.invokeFunction('convertToInteractive',\n",
              "                                                    [key], {});\n",
              "        if (!dataTable) return;\n",
              "\n",
              "        const docLinkHtml = 'Like what you see? Visit the ' +\n",
              "          '<a target=\"_blank\" href=https://colab.research.google.com/notebooks/data_table.ipynb>data table notebook</a>'\n",
              "          + ' to learn more about interactive tables.';\n",
              "        element.innerHTML = '';\n",
              "        dataTable['output_type'] = 'display_data';\n",
              "        await google.colab.output.renderOutput(dataTable, element);\n",
              "        const docLink = document.createElement('div');\n",
              "        docLink.innerHTML = docLinkHtml;\n",
              "        element.appendChild(docLink);\n",
              "      }\n",
              "    </script>\n",
              "  </div>\n",
              "\n",
              "\n",
              "<div id=\"df-9fe5aa53-3cf0-4f08-8cfa-dc2fae8284d9\">\n",
              "  <button class=\"colab-df-quickchart\" onclick=\"quickchart('df-9fe5aa53-3cf0-4f08-8cfa-dc2fae8284d9')\"\n",
              "            title=\"Suggest charts\"\n",
              "            style=\"display:none;\">\n",
              "\n",
              "<svg xmlns=\"http://www.w3.org/2000/svg\" height=\"24px\"viewBox=\"0 0 24 24\"\n",
              "     width=\"24px\">\n",
              "    <g>\n",
              "        <path d=\"M19 3H5c-1.1 0-2 .9-2 2v14c0 1.1.9 2 2 2h14c1.1 0 2-.9 2-2V5c0-1.1-.9-2-2-2zM9 17H7v-7h2v7zm4 0h-2V7h2v10zm4 0h-2v-4h2v4z\"/>\n",
              "    </g>\n",
              "</svg>\n",
              "  </button>\n",
              "\n",
              "<style>\n",
              "  .colab-df-quickchart {\n",
              "      --bg-color: #E8F0FE;\n",
              "      --fill-color: #1967D2;\n",
              "      --hover-bg-color: #E2EBFA;\n",
              "      --hover-fill-color: #174EA6;\n",
              "      --disabled-fill-color: #AAA;\n",
              "      --disabled-bg-color: #DDD;\n",
              "  }\n",
              "\n",
              "  [theme=dark] .colab-df-quickchart {\n",
              "      --bg-color: #3B4455;\n",
              "      --fill-color: #D2E3FC;\n",
              "      --hover-bg-color: #434B5C;\n",
              "      --hover-fill-color: #FFFFFF;\n",
              "      --disabled-bg-color: #3B4455;\n",
              "      --disabled-fill-color: #666;\n",
              "  }\n",
              "\n",
              "  .colab-df-quickchart {\n",
              "    background-color: var(--bg-color);\n",
              "    border: none;\n",
              "    border-radius: 50%;\n",
              "    cursor: pointer;\n",
              "    display: none;\n",
              "    fill: var(--fill-color);\n",
              "    height: 32px;\n",
              "    padding: 0;\n",
              "    width: 32px;\n",
              "  }\n",
              "\n",
              "  .colab-df-quickchart:hover {\n",
              "    background-color: var(--hover-bg-color);\n",
              "    box-shadow: 0 1px 2px rgba(60, 64, 67, 0.3), 0 1px 3px 1px rgba(60, 64, 67, 0.15);\n",
              "    fill: var(--button-hover-fill-color);\n",
              "  }\n",
              "\n",
              "  .colab-df-quickchart-complete:disabled,\n",
              "  .colab-df-quickchart-complete:disabled:hover {\n",
              "    background-color: var(--disabled-bg-color);\n",
              "    fill: var(--disabled-fill-color);\n",
              "    box-shadow: none;\n",
              "  }\n",
              "\n",
              "  .colab-df-spinner {\n",
              "    border: 2px solid var(--fill-color);\n",
              "    border-color: transparent;\n",
              "    border-bottom-color: var(--fill-color);\n",
              "    animation:\n",
              "      spin 1s steps(1) infinite;\n",
              "  }\n",
              "\n",
              "  @keyframes spin {\n",
              "    0% {\n",
              "      border-color: transparent;\n",
              "      border-bottom-color: var(--fill-color);\n",
              "      border-left-color: var(--fill-color);\n",
              "    }\n",
              "    20% {\n",
              "      border-color: transparent;\n",
              "      border-left-color: var(--fill-color);\n",
              "      border-top-color: var(--fill-color);\n",
              "    }\n",
              "    30% {\n",
              "      border-color: transparent;\n",
              "      border-left-color: var(--fill-color);\n",
              "      border-top-color: var(--fill-color);\n",
              "      border-right-color: var(--fill-color);\n",
              "    }\n",
              "    40% {\n",
              "      border-color: transparent;\n",
              "      border-right-color: var(--fill-color);\n",
              "      border-top-color: var(--fill-color);\n",
              "    }\n",
              "    60% {\n",
              "      border-color: transparent;\n",
              "      border-right-color: var(--fill-color);\n",
              "    }\n",
              "    80% {\n",
              "      border-color: transparent;\n",
              "      border-right-color: var(--fill-color);\n",
              "      border-bottom-color: var(--fill-color);\n",
              "    }\n",
              "    90% {\n",
              "      border-color: transparent;\n",
              "      border-bottom-color: var(--fill-color);\n",
              "    }\n",
              "  }\n",
              "</style>\n",
              "\n",
              "  <script>\n",
              "    async function quickchart(key) {\n",
              "      const quickchartButtonEl =\n",
              "        document.querySelector('#' + key + ' button');\n",
              "      quickchartButtonEl.disabled = true;  // To prevent multiple clicks.\n",
              "      quickchartButtonEl.classList.add('colab-df-spinner');\n",
              "      try {\n",
              "        const charts = await google.colab.kernel.invokeFunction(\n",
              "            'suggestCharts', [key], {});\n",
              "      } catch (error) {\n",
              "        console.error('Error during call to suggestCharts:', error);\n",
              "      }\n",
              "      quickchartButtonEl.classList.remove('colab-df-spinner');\n",
              "      quickchartButtonEl.classList.add('colab-df-quickchart-complete');\n",
              "    }\n",
              "    (() => {\n",
              "      let quickchartButtonEl =\n",
              "        document.querySelector('#df-9fe5aa53-3cf0-4f08-8cfa-dc2fae8284d9 button');\n",
              "      quickchartButtonEl.style.display =\n",
              "        google.colab.kernel.accessAllowed ? 'block' : 'none';\n",
              "    })();\n",
              "  </script>\n",
              "</div>\n",
              "    </div>\n",
              "  </div>\n"
            ],
            "application/vnd.google.colaboratory.intrinsic+json": {
              "type": "dataframe",
              "variable_name": "mxmh"
            }
          },
          "metadata": {},
          "execution_count": 29
        }
      ]
    },
    {
      "cell_type": "markdown",
      "source": [
        "###Clusters for Anxiety\n",
        "Cluster Numbers: 13, 0, 1"
      ],
      "metadata": {
        "id": "BGDlSCtODLpe"
      }
    },
    {
      "cell_type": "code",
      "source": [
        "#starting with cluster 13, what are the rankings for each genre based on the total number of rankings for cluster 13\n",
        "\n",
        "#subset the DataFrame to show only rows where \"cluster\" column equals 13\n",
        "anxiety_13 = mxmh[mxmh['cluster_label'] == 13]\n",
        "\n",
        "anxiety_13 = anxiety_13[[\"Frequency [Classical]\", \"Frequency [Country]\", \"Frequency [EDM]\", \"Frequency [Folk]\", \"Frequency [Gospel]\",\n",
        "                  \"Frequency [Hip hop]\", \"Frequency [Jazz]\", \"Frequency [K pop]\", \"Frequency [Latin]\", \"Frequency [Lofi]\",\n",
        "                  \"Frequency [Metal]\", \"Frequency [Pop]\", \"Frequency [R&B]\", \"Frequency [Rap]\", \"Frequency [Rock]\", \"Frequency [Video game music]\"]]\n",
        "\n",
        "\n",
        "#calculate percentage for values 1-4 in each column\n",
        "percentage_results = {}\n",
        "\n",
        "for col in anxiety_13.columns:\n",
        "    percentage_results[col] = {}\n",
        "    total_rows_df = anxiety_13.shape[0] * anxiety_13.shape[1]\n",
        "    for val in range(1, 5):\n",
        "        count_val = (anxiety_13[col] == val).sum()\n",
        "        percentage = (count_val / total_rows_df) * 100\n",
        "        percentage_results[col][val] = percentage\n",
        "\n",
        "#print the results\n",
        "for col, values in percentage_results.items():\n",
        "    print(col)\n",
        "    for val, percentage in values.items():\n",
        "        print(f\"\\tRating {val}: {percentage:.2f}%\")\n",
        "\n",
        "#why calculate the percentage on the total number of rankings in the df for cluster 13?\n",
        "  #I want to know how important that one ranking is in terms of the whole cluster.\n",
        "  #EX: Hip Hop rating 4: this has 4.88% of all of the ratings in cluster 13, so it's very important\n"
      ],
      "metadata": {
        "id": "St0Mmpg9FHtN"
      },
      "execution_count": null,
      "outputs": []
    },
    {
      "cell_type": "markdown",
      "source": [
        "Anxiety, cluster 13:\n",
        "*   Highest ranking for 4: Hip Hop, Rap, Rock\n",
        "*   Highest ranking for 3: Country, Latin, EDM\n",
        "*   Highest ranking for 2: Classical, Video Game Music, K pop\n",
        "*   Highest ranking for 1: Gospel, K pop, Video Game Music\n",
        "\n"
      ],
      "metadata": {
        "id": "aI7XIz2abgWb"
      }
    },
    {
      "cell_type": "code",
      "source": [
        "#cluster 0, what are the rankings for each genre based on the total number of rankings\n",
        "\n",
        "#subset the DataFrame to show only rows where \"cluster\" column equals 0\n",
        "anxiety_0 = mxmh[mxmh['cluster_label'] == 0]\n",
        "\n",
        "anxiety_0 = anxiety_0[[\"Frequency [Classical]\", \"Frequency [Country]\", \"Frequency [EDM]\", \"Frequency [Folk]\", \"Frequency [Gospel]\",\n",
        "                  \"Frequency [Hip hop]\", \"Frequency [Jazz]\", \"Frequency [K pop]\", \"Frequency [Latin]\", \"Frequency [Lofi]\",\n",
        "                  \"Frequency [Metal]\", \"Frequency [Pop]\", \"Frequency [R&B]\", \"Frequency [Rap]\", \"Frequency [Rock]\", \"Frequency [Video game music]\"]]\n",
        "\n",
        "#calculate percentage for values 1-4 in each column\n",
        "percentage_results = {}\n",
        "\n",
        "for col in anxiety_0.columns:\n",
        "    percentage_results[col] = {}\n",
        "    total_rows_df = anxiety_0.shape[0] * anxiety_0.shape[1]\n",
        "    for val in range(1, 5):\n",
        "        count_val = (anxiety_0[col] == val).sum()\n",
        "        percentage = (count_val / total_rows_df) * 100\n",
        "        percentage_results[col][val] = percentage\n",
        "\n",
        "#print the results\n",
        "for col, values in percentage_results.items():\n",
        "    print(col)\n",
        "    for val, percentage in values.items():\n",
        "        print(f\"\\tRating {val}: {percentage:.2f}%\")"
      ],
      "metadata": {
        "id": "0EkEF0i3ZjH-"
      },
      "execution_count": null,
      "outputs": []
    },
    {
      "cell_type": "markdown",
      "source": [
        "Anxiety, cluster 0:\n",
        "*   Highest ranking for 4: Rock, Metal, Pop\n",
        "*   Highest ranking for 3: Rap, Hip Hop, R&B\n",
        "*   Highest ranking for 2: Classical, Folk, EDM\n",
        "*   Highest ranking for 1: Gospel, Latin, Jazz"
      ],
      "metadata": {
        "id": "lY49q1uBc_Ib"
      }
    },
    {
      "cell_type": "code",
      "source": [
        "#cluster 1, what are the rankings for each genre based on the total number of rankings\n",
        "\n",
        "#subset the DataFrame to show only rows where \"cluster\" column equals 1\n",
        "anxiety_1 = mxmh[mxmh['cluster_label'] == 1]\n",
        "\n",
        "anxiety_1 = anxiety_1[[\"Frequency [Classical]\", \"Frequency [Country]\", \"Frequency [EDM]\", \"Frequency [Folk]\", \"Frequency [Gospel]\",\n",
        "                  \"Frequency [Hip hop]\", \"Frequency [Jazz]\", \"Frequency [K pop]\", \"Frequency [Latin]\", \"Frequency [Lofi]\",\n",
        "                  \"Frequency [Metal]\", \"Frequency [Pop]\", \"Frequency [R&B]\", \"Frequency [Rap]\", \"Frequency [Rock]\", \"Frequency [Video game music]\"]]\n",
        "\n",
        "#calculate percentage for values 1-4 in each column\n",
        "percentage_results = {}\n",
        "\n",
        "for col in anxiety_1.columns:\n",
        "    percentage_results[col] = {}\n",
        "    total_rows_df = anxiety_1.shape[0] * anxiety_1.shape[1]\n",
        "    for val in range(1, 5):\n",
        "        count_val = (anxiety_1[col] == val).sum()\n",
        "        percentage = (count_val / total_rows_df) * 100\n",
        "        percentage_results[col][val] = percentage\n",
        "\n",
        "#print the results\n",
        "for col, values in percentage_results.items():\n",
        "    print(col)\n",
        "    for val, percentage in values.items():\n",
        "        print(f\"\\tRating {val}: {percentage:.2f}%\")"
      ],
      "metadata": {
        "id": "3wrqxLMDZ5z0"
      },
      "execution_count": null,
      "outputs": []
    },
    {
      "cell_type": "markdown",
      "source": [
        "Anxiety, cluster 1:\n",
        "*   Highest ranking for 4: Rock, Video Game Music, Pop\n",
        "*   Highest ranking for 3: Hip Hop, Rap, Lofi\n",
        "*   Highest ranking for 2: Country, R&B, K Pop\n",
        "*   Highest ranking for 1: Gospel, Latin, K Pop"
      ],
      "metadata": {
        "id": "AxH52Potd2Dz"
      }
    },
    {
      "cell_type": "markdown",
      "source": [
        "###Clusters for Depression\n",
        "Cluster Numbers: 0, 1, 12"
      ],
      "metadata": {
        "id": "4q3Dr6uzDa8S"
      }
    },
    {
      "cell_type": "code",
      "source": [
        "#cluster 0, what are the rankings for each genre based on the total number of rankings\n",
        "\n",
        "#subset the DataFrame to show only rows where \"cluster\" column equals 0\n",
        "depression_0 = mxmh[mxmh['cluster_label'] == 0]\n",
        "\n",
        "depression_0 = depression_0[[\"Frequency [Classical]\", \"Frequency [Country]\", \"Frequency [EDM]\", \"Frequency [Folk]\", \"Frequency [Gospel]\",\n",
        "                  \"Frequency [Hip hop]\", \"Frequency [Jazz]\", \"Frequency [K pop]\", \"Frequency [Latin]\", \"Frequency [Lofi]\",\n",
        "                  \"Frequency [Metal]\", \"Frequency [Pop]\", \"Frequency [R&B]\", \"Frequency [Rap]\", \"Frequency [Rock]\", \"Frequency [Video game music]\"]]\n",
        "\n",
        "#calculate percentage for values 1-4 in each column\n",
        "percentage_results = {}\n",
        "\n",
        "for col in depression_0.columns:\n",
        "    percentage_results[col] = {}\n",
        "    total_rows_df = depression_0.shape[0] * depression_0.shape[1]\n",
        "    for val in range(1, 5):\n",
        "        count_val = (depression_0[col] == val).sum()\n",
        "        percentage = (count_val / total_rows_df) * 100\n",
        "        percentage_results[col][val] = percentage\n",
        "\n",
        "#print the results\n",
        "for col, values in percentage_results.items():\n",
        "    print(col)\n",
        "    for val, percentage in values.items():\n",
        "        print(f\"\\tRating {val}: {percentage:.2f}%\")"
      ],
      "metadata": {
        "id": "vFCN0IlwaF-m"
      },
      "execution_count": null,
      "outputs": []
    },
    {
      "cell_type": "markdown",
      "source": [
        "Depression, cluster 0:\n",
        "*   Highest ranking for 4: Rock, Metal, Pop\n",
        "*   Highest ranking for 3: Rap, Hip Hop, Pop\n",
        "*   Highest ranking for 2: Classical, Folk, EDM\n",
        "*   Highest ranking for 1: Gospel, Latin, Jazz"
      ],
      "metadata": {
        "id": "6RQ3NrdGeyI1"
      }
    },
    {
      "cell_type": "code",
      "source": [
        "#cluster 1, what are the rankings for each genre based on the total number of rankings\n",
        "\n",
        "#subset the DataFrame to show only rows where \"cluster\" column equals 1\n",
        "depression_1 = mxmh[mxmh['cluster_label'] == 1]\n",
        "\n",
        "depression_1 = depression_1[[\"Frequency [Classical]\", \"Frequency [Country]\", \"Frequency [EDM]\", \"Frequency [Folk]\", \"Frequency [Gospel]\",\n",
        "                  \"Frequency [Hip hop]\", \"Frequency [Jazz]\", \"Frequency [K pop]\", \"Frequency [Latin]\", \"Frequency [Lofi]\",\n",
        "                  \"Frequency [Metal]\", \"Frequency [Pop]\", \"Frequency [R&B]\", \"Frequency [Rap]\", \"Frequency [Rock]\", \"Frequency [Video game music]\"]]\n",
        "\n",
        "#calculate percentage for values 1-4 in each column\n",
        "percentage_results = {}\n",
        "\n",
        "for col in depression_1.columns:\n",
        "    percentage_results[col] = {}\n",
        "    total_rows_df = depression_1.shape[0] * depression_1.shape[1]\n",
        "    for val in range(1, 5):\n",
        "        count_val = (depression_1[col] == val).sum()\n",
        "        percentage = (count_val / total_rows_df) * 100\n",
        "        percentage_results[col][val] = percentage\n",
        "\n",
        "#print the results\n",
        "for col, values in percentage_results.items():\n",
        "    print(col)\n",
        "    for val, percentage in values.items():\n",
        "        print(f\"\\tRating {val}: {percentage:.2f}%\")"
      ],
      "metadata": {
        "id": "UWBfgzkNaXFG"
      },
      "execution_count": null,
      "outputs": []
    },
    {
      "cell_type": "markdown",
      "source": [
        "Depression, cluster 1:\n",
        "*   Highest ranking for 4: Rock, Video Game Music, Pop\n",
        "*   Highest ranking for 3: Hip Hop, Lofi, Folk\n",
        "*   Highest ranking for 2: Country, R&B, K Pop\n",
        "*   Highest ranking for 1: Gospel, Latin, K Pop"
      ],
      "metadata": {
        "id": "I3btuIv-jGf7"
      }
    },
    {
      "cell_type": "code",
      "source": [
        "#cluster 12, what are the rankings for each genre based on the total number of rankings\n",
        "\n",
        "#subset the DataFrame to show only rows where \"cluster\" column equals 12\n",
        "depression_12 = mxmh[mxmh['cluster_label'] == 12]\n",
        "\n",
        "depression_12 = depression_12[[\"Frequency [Classical]\", \"Frequency [Country]\", \"Frequency [EDM]\", \"Frequency [Folk]\", \"Frequency [Gospel]\",\n",
        "                  \"Frequency [Hip hop]\", \"Frequency [Jazz]\", \"Frequency [K pop]\", \"Frequency [Latin]\", \"Frequency [Lofi]\",\n",
        "                  \"Frequency [Metal]\", \"Frequency [Pop]\", \"Frequency [R&B]\", \"Frequency [Rap]\", \"Frequency [Rock]\", \"Frequency [Video game music]\"]]\n",
        "\n",
        "#calculate percentage for values 1-4 in each column\n",
        "percentage_results = {}\n",
        "\n",
        "for col in depression_12.columns:\n",
        "    percentage_results[col] = {}\n",
        "    total_rows_df = depression_12.shape[0] * depression_12.shape[1]\n",
        "    for val in range(1, 5):\n",
        "        count_val = (depression_12[col] == val).sum()\n",
        "        percentage = (count_val / total_rows_df) * 100\n",
        "        percentage_results[col][val] = percentage\n",
        "\n",
        "#print the results\n",
        "for col, values in percentage_results.items():\n",
        "    print(col)\n",
        "    for val, percentage in values.items():\n",
        "        print(f\"\\tRating {val}: {percentage:.2f}%\")"
      ],
      "metadata": {
        "id": "FHJI70QBad3O"
      },
      "execution_count": null,
      "outputs": []
    },
    {
      "cell_type": "markdown",
      "source": [
        "Depression, cluster 12:\n",
        "*   Highest ranking for 4: Rock, Metal, Pop\n",
        "*   Highest ranking for 3: Hip Hop, Rap, Jazz\n",
        "*   Highest ranking for 2: Lofi, Classical, R&B\n",
        "*   Highest ranking for 1: Gospel, K Pop, EDM"
      ],
      "metadata": {
        "id": "F64_R7sHjNVc"
      }
    },
    {
      "cell_type": "markdown",
      "source": [
        "###Clusters for Insomnia\n",
        "Cluster Numbers: 0, 13, 12"
      ],
      "metadata": {
        "id": "1CQWpa4XDsHY"
      }
    },
    {
      "cell_type": "code",
      "source": [
        "#cluster 0, what are the rankings for each genre based on the total number of rankings\n",
        "\n",
        "#subset the DataFrame to show only rows where \"cluster\" column equals 0\n",
        "insomnia_0 = mxmh[mxmh['cluster_label'] == 0]\n",
        "\n",
        "insomnia_0 = insomnia_0[[\"Frequency [Classical]\", \"Frequency [Country]\", \"Frequency [EDM]\", \"Frequency [Folk]\", \"Frequency [Gospel]\",\n",
        "                  \"Frequency [Hip hop]\", \"Frequency [Jazz]\", \"Frequency [K pop]\", \"Frequency [Latin]\", \"Frequency [Lofi]\",\n",
        "                  \"Frequency [Metal]\", \"Frequency [Pop]\", \"Frequency [R&B]\", \"Frequency [Rap]\", \"Frequency [Rock]\", \"Frequency [Video game music]\"]]\n",
        "\n",
        "#calculate percentage for values 1-4 in each column\n",
        "percentage_results = {}\n",
        "\n",
        "for col in insomnia_0.columns:\n",
        "    percentage_results[col] = {}\n",
        "    total_rows_df = insomnia_0.shape[0] * insomnia_0.shape[1]\n",
        "    for val in range(1, 5):\n",
        "        count_val = (insomnia_0[col] == val).sum()\n",
        "        percentage = (count_val / total_rows_df) * 100\n",
        "        percentage_results[col][val] = percentage\n",
        "\n",
        "#print the results\n",
        "for col, values in percentage_results.items():\n",
        "    print(col)\n",
        "    for val, percentage in values.items():\n",
        "        print(f\"\\tRating {val}: {percentage:.2f}%\")"
      ],
      "metadata": {
        "id": "uFej-tqIaoFh"
      },
      "execution_count": null,
      "outputs": []
    },
    {
      "cell_type": "markdown",
      "source": [
        "Insomnia, cluster 0:\n",
        "*   Highest ranking for 4: Rock, Metal, Pop\n",
        "*   Highest ranking for 3: Rap, Pop, Hip Hop\n",
        "*   Highest ranking for 2: Classical, Folk, EDM\n",
        "*   Highest ranking for 1: Gospel, Latin, Jazz"
      ],
      "metadata": {
        "id": "UZtDYD68jQ_g"
      }
    },
    {
      "cell_type": "code",
      "source": [
        "#cluster 13, what are the rankings for each genre based on the total number of rankings\n",
        "\n",
        "#subset the DataFrame to show only rows where \"cluster\" column equals 13\n",
        "insomnia_13 = mxmh[mxmh['cluster_label'] == 13]\n",
        "\n",
        "insomnia_13 = insomnia_13[[\"Frequency [Classical]\", \"Frequency [Country]\", \"Frequency [EDM]\", \"Frequency [Folk]\", \"Frequency [Gospel]\",\n",
        "                  \"Frequency [Hip hop]\", \"Frequency [Jazz]\", \"Frequency [K pop]\", \"Frequency [Latin]\", \"Frequency [Lofi]\",\n",
        "                  \"Frequency [Metal]\", \"Frequency [Pop]\", \"Frequency [R&B]\", \"Frequency [Rap]\", \"Frequency [Rock]\", \"Frequency [Video game music]\"]]\n",
        "\n",
        "#calculate percentage for values 1-4 in each column\n",
        "percentage_results = {}\n",
        "\n",
        "for col in insomnia_13.columns:\n",
        "    percentage_results[col] = {}\n",
        "    total_rows_df = insomnia_13.shape[0] * insomnia_13.shape[1]\n",
        "    for val in range(1, 5):\n",
        "        count_val = (insomnia_13[col] == val).sum()\n",
        "        percentage = (count_val / total_rows_df) * 100\n",
        "        percentage_results[col][val] = percentage\n",
        "\n",
        "#print the results\n",
        "for col, values in percentage_results.items():\n",
        "    print(col)\n",
        "    for val, percentage in values.items():\n",
        "        print(f\"\\tRating {val}: {percentage:.2f}%\")"
      ],
      "metadata": {
        "id": "U4XiNhW7azqr"
      },
      "execution_count": null,
      "outputs": []
    },
    {
      "cell_type": "markdown",
      "source": [
        "Insomnia, cluster 13:\n",
        "*   Highest ranking for 4: Hip Hop, Rock, Rap\n",
        "*   Highest ranking for 3: Country, Latin, EDM\n",
        "*   Highest ranking for 2: Classical, Video Game Music, K Pop\n",
        "*   Highest ranking for 1: Gospel, K Pop, Video Game Music"
      ],
      "metadata": {
        "id": "67ePOFgvjU9r"
      }
    },
    {
      "cell_type": "code",
      "source": [
        "#cluster 12, what are the rankings for each genre based on the total number of rankings\n",
        "\n",
        "#subset the DataFrame to show only rows where \"cluster\" column equals 12\n",
        "insomnia_12 = mxmh[mxmh['cluster_label'] == 12]\n",
        "\n",
        "insomnia_12 = insomnia_12[[\"Frequency [Classical]\", \"Frequency [Country]\", \"Frequency [EDM]\", \"Frequency [Folk]\", \"Frequency [Gospel]\",\n",
        "                  \"Frequency [Hip hop]\", \"Frequency [Jazz]\", \"Frequency [K pop]\", \"Frequency [Latin]\", \"Frequency [Lofi]\",\n",
        "                  \"Frequency [Metal]\", \"Frequency [Pop]\", \"Frequency [R&B]\", \"Frequency [Rap]\", \"Frequency [Rock]\", \"Frequency [Video game music]\"]]\n",
        "\n",
        "#calculate percentage for values 1-4 in each column\n",
        "percentage_results = {}\n",
        "\n",
        "for col in insomnia_12.columns:\n",
        "    percentage_results[col] = {}\n",
        "    total_rows_df = insomnia_12.shape[0] * insomnia_12.shape[1]\n",
        "    for val in range(1, 5):\n",
        "        count_val = (insomnia_12[col] == val).sum()\n",
        "        percentage = (count_val / total_rows_df) * 100\n",
        "        percentage_results[col][val] = percentage\n",
        "\n",
        "#print the results\n",
        "for col, values in percentage_results.items():\n",
        "    print(col)\n",
        "    for val, percentage in values.items():\n",
        "        print(f\"\\tRating {val}: {percentage:.2f}%\")"
      ],
      "metadata": {
        "id": "CoyuN_z6a5Yb"
      },
      "execution_count": null,
      "outputs": []
    },
    {
      "cell_type": "markdown",
      "source": [
        "Insomnia, cluster 12:\n",
        "*   Highest ranking for 4: Rock, Metal, Pop\n",
        "*   Highest ranking for 3: Hip Hop, Rap, Jazz\n",
        "*   Highest ranking for 2: Lofi, Classical, R&B\n",
        "*   Highest ranking for 1: Gospel, K Pop, EDM"
      ],
      "metadata": {
        "id": "T3S2rURnjWv4"
      }
    },
    {
      "cell_type": "markdown",
      "source": [
        "###Clusters for OCD\n",
        "Cluster Numbers: 1, 4, 13"
      ],
      "metadata": {
        "id": "FgwQWB8CD9Sm"
      }
    },
    {
      "cell_type": "code",
      "source": [
        "#cluster 1, what are the rankings for each genre based on the total number of rankings\n",
        "\n",
        "#subset the DataFrame to show only rows where \"cluster\" column equals 1\n",
        "ocd_1 = mxmh[mxmh['cluster_label'] == 1]\n",
        "\n",
        "ocd_1 = ocd_1[[\"Frequency [Classical]\", \"Frequency [Country]\", \"Frequency [EDM]\", \"Frequency [Folk]\", \"Frequency [Gospel]\",\n",
        "                  \"Frequency [Hip hop]\", \"Frequency [Jazz]\", \"Frequency [K pop]\", \"Frequency [Latin]\", \"Frequency [Lofi]\",\n",
        "                  \"Frequency [Metal]\", \"Frequency [Pop]\", \"Frequency [R&B]\", \"Frequency [Rap]\", \"Frequency [Rock]\", \"Frequency [Video game music]\"]]\n",
        "\n",
        "#calculate percentage for values 1-4 in each column\n",
        "percentage_results = {}\n",
        "\n",
        "for col in ocd_1.columns:\n",
        "    percentage_results[col] = {}\n",
        "    total_rows_df = ocd_1.shape[0] * ocd_1.shape[1]\n",
        "    for val in range(1, 5):\n",
        "        count_val = (ocd_1[col] == val).sum()\n",
        "        percentage = (count_val / total_rows_df) * 100\n",
        "        percentage_results[col][val] = percentage\n",
        "\n",
        "#print the results\n",
        "for col, values in percentage_results.items():\n",
        "    print(col)\n",
        "    for val, percentage in values.items():\n",
        "        print(f\"\\tRating {val}: {percentage:.2f}%\")"
      ],
      "metadata": {
        "id": "sSDozjRPbFtm"
      },
      "execution_count": null,
      "outputs": []
    },
    {
      "cell_type": "markdown",
      "source": [
        "OCD, cluster 1:\n",
        "*   Highest ranking for 4: Rock, Video Game Music, Pop\n",
        "*   Highest ranking for 3: Hip Hop, Lofi, Folk\n",
        "*   Highest ranking for 2: Country, R&B, K Pop\n",
        "*   Highest ranking for 1: Gospel, Latin, K Pop"
      ],
      "metadata": {
        "id": "TZ-R1BP8jZtd"
      }
    },
    {
      "cell_type": "code",
      "source": [
        "#cluster 4, what are the rankings for each genre based on the total number of rankings\n",
        "\n",
        "#subset the DataFrame to show only rows where \"cluster\" column equals 4\n",
        "ocd_4 = mxmh[mxmh['cluster_label'] == 4]\n",
        "\n",
        "ocd_4 = ocd_4[[\"Frequency [Classical]\", \"Frequency [Country]\", \"Frequency [EDM]\", \"Frequency [Folk]\", \"Frequency [Gospel]\",\n",
        "                  \"Frequency [Hip hop]\", \"Frequency [Jazz]\", \"Frequency [K pop]\", \"Frequency [Latin]\", \"Frequency [Lofi]\",\n",
        "                  \"Frequency [Metal]\", \"Frequency [Pop]\", \"Frequency [R&B]\", \"Frequency [Rap]\", \"Frequency [Rock]\", \"Frequency [Video game music]\"]]\n",
        "\n",
        "#calculate percentage for values 1-4 in each column\n",
        "percentage_results = {}\n",
        "\n",
        "for col in ocd_4.columns:\n",
        "    percentage_results[col] = {}\n",
        "    total_rows_df = ocd_4.shape[0] * ocd_4.shape[1]\n",
        "    for val in range(1, 5):\n",
        "        count_val = (ocd_4[col] == val).sum()\n",
        "        percentage = (count_val / total_rows_df) * 100\n",
        "        percentage_results[col][val] = percentage\n",
        "\n",
        "#print the results\n",
        "for col, values in percentage_results.items():\n",
        "    print(col)\n",
        "    for val, percentage in values.items():\n",
        "        print(f\"\\tRating {val}: {percentage:.2f}%\")"
      ],
      "metadata": {
        "id": "-mDYn582bQ3z"
      },
      "execution_count": null,
      "outputs": []
    },
    {
      "cell_type": "markdown",
      "source": [
        "OCD, cluster 4:\n",
        "*   Highest ranking for 4: K Pop, Pop, R&B\n",
        "*   Highest ranking for 3: Hip Hop, R&B, Latin\n",
        "*   Highest ranking for 2: Classical, Lofi, Rap\n",
        "*   Highest ranking for 1: Metal, Gospel, Folk"
      ],
      "metadata": {
        "id": "Us-kWV5Vje__"
      }
    },
    {
      "cell_type": "code",
      "source": [
        "#cluster 13, what are the rankings for each genre based on the total number of rankings\n",
        "\n",
        "#subset the DataFrame to show only rows where \"cluster\" column equals 13\n",
        "ocd_13 = mxmh[mxmh['cluster_label'] == 13]\n",
        "\n",
        "ocd_13 = ocd_13[[\"Frequency [Classical]\", \"Frequency [Country]\", \"Frequency [EDM]\", \"Frequency [Folk]\", \"Frequency [Gospel]\",\n",
        "                  \"Frequency [Hip hop]\", \"Frequency [Jazz]\", \"Frequency [K pop]\", \"Frequency [Latin]\", \"Frequency [Lofi]\",\n",
        "                  \"Frequency [Metal]\", \"Frequency [Pop]\", \"Frequency [R&B]\", \"Frequency [Rap]\", \"Frequency [Rock]\", \"Frequency [Video game music]\"]]\n",
        "\n",
        "#calculate percentage for values 1-4 in each column\n",
        "percentage_results = {}\n",
        "\n",
        "for col in ocd_13.columns:\n",
        "    percentage_results[col] = {}\n",
        "    total_rows_df = ocd_13.shape[0] * ocd_13.shape[1]\n",
        "    for val in range(1, 5):\n",
        "        count_val = (ocd_13[col] == val).sum()\n",
        "        percentage = (count_val / total_rows_df) * 100\n",
        "        percentage_results[col][val] = percentage\n",
        "\n",
        "#print the results\n",
        "for col, values in percentage_results.items():\n",
        "    print(col)\n",
        "    for val, percentage in values.items():\n",
        "        print(f\"\\tRating {val}: {percentage:.2f}%\")"
      ],
      "metadata": {
        "id": "n5xaesUDbWm3"
      },
      "execution_count": null,
      "outputs": []
    },
    {
      "cell_type": "markdown",
      "source": [
        "OCD, cluster 13:\n",
        "*   Highest ranking for 4: Hip Hop, Rock, Rap\n",
        "*   Highest ranking for 3: Country, Latin, EDM\n",
        "*   Highest ranking for 2: Classical, Video Game Music, K Pop\n",
        "*   Highest ranking for 1: Gospel, K Pop, Video Game Music"
      ],
      "metadata": {
        "id": "axne7coCjgx7"
      }
    }
  ]
}